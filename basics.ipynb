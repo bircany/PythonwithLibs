{
 "cells": [
  {
   "cell_type": "markdown",
   "id": "4940ca6c-015b-467e-89cf-705494a1bbde",
   "metadata": {},
   "source": [
    "## Degiskenler"
   ]
  },
  {
   "cell_type": "code",
   "execution_count": 4,
   "id": "2f28030c-3f96-4536-9d87-f25371b51924",
   "metadata": {},
   "outputs": [
    {
     "data": {
      "text/plain": [
       "20"
      ]
     },
     "execution_count": 4,
     "metadata": {},
     "output_type": "execute_result"
    }
   ],
   "source": [
    "5 * 4 "
   ]
  },
  {
   "cell_type": "code",
   "execution_count": 6,
   "id": "d0d567aa-7d77-4e6e-bace-a9b634c101cf",
   "metadata": {},
   "outputs": [
    {
     "data": {
      "text/plain": [
       "3500"
      ]
     },
     "execution_count": 6,
     "metadata": {},
     "output_type": "execute_result"
    }
   ],
   "source": [
    "1000 + 2500"
   ]
  },
  {
   "cell_type": "code",
   "execution_count": 8,
   "id": "ede00042-cce3-439e-a8e3-06f9fa64f46c",
   "metadata": {},
   "outputs": [
    {
     "data": {
      "text/plain": [
       "20"
      ]
     },
     "execution_count": 8,
     "metadata": {},
     "output_type": "execute_result"
    }
   ],
   "source": [
    "x = 5\n",
    "y = 4\n",
    "x * y "
   ]
  },
  {
   "cell_type": "code",
   "execution_count": 10,
   "id": "ed1ced80-77b8-4f6d-a17d-6abc9afaa637",
   "metadata": {},
   "outputs": [
    {
     "data": {
      "text/plain": [
       "5"
      ]
     },
     "execution_count": 10,
     "metadata": {},
     "output_type": "execute_result"
    }
   ],
   "source": [
    "x "
   ]
  },
  {
   "cell_type": "code",
   "execution_count": 12,
   "id": "6e3cae44-476b-4177-8e32-647913d5e8a1",
   "metadata": {},
   "outputs": [],
   "source": [
    "x = 6"
   ]
  },
  {
   "cell_type": "code",
   "execution_count": 14,
   "id": "e3e03fd7-7750-42bf-ad9c-dace7a63cb0c",
   "metadata": {},
   "outputs": [
    {
     "data": {
      "text/plain": [
       "6"
      ]
     },
     "execution_count": 14,
     "metadata": {},
     "output_type": "execute_result"
    }
   ],
   "source": [
    "x\n"
   ]
  },
  {
   "cell_type": "code",
   "execution_count": 16,
   "id": "2725e867-664a-4392-9a2e-4111a75b7961",
   "metadata": {},
   "outputs": [
    {
     "data": {
      "text/plain": [
       "24"
      ]
     },
     "execution_count": 16,
     "metadata": {},
     "output_type": "execute_result"
    }
   ],
   "source": [
    "x * y"
   ]
  },
  {
   "cell_type": "code",
   "execution_count": 18,
   "id": "a1237dd4-3b18-4308-97ab-259e69e992d5",
   "metadata": {},
   "outputs": [
    {
     "data": {
      "text/plain": [
       "40"
      ]
     },
     "execution_count": 18,
     "metadata": {},
     "output_type": "execute_result"
    }
   ],
   "source": [
    "y * 10"
   ]
  },
  {
   "cell_type": "markdown",
   "id": "f620c31a-bc1f-49f4-8fba-371045920d41",
   "metadata": {},
   "source": [
    "## Integer & Float"
   ]
  },
  {
   "cell_type": "code",
   "execution_count": 21,
   "id": "96f5de4e-13b3-4dd5-846d-b9ff5ed64190",
   "metadata": {},
   "outputs": [],
   "source": [
    "benimDegiskenim = 10\n",
    "benimDigerDegiskenim = 20"
   ]
  },
  {
   "cell_type": "code",
   "execution_count": 23,
   "id": "668349a3-c8ed-4b2e-ab82-ed16cd69f9a0",
   "metadata": {},
   "outputs": [
    {
     "data": {
      "text/plain": [
       "30"
      ]
     },
     "execution_count": 23,
     "metadata": {},
     "output_type": "execute_result"
    }
   ],
   "source": [
    "benimDegiskenim + benimDigerDegiskenim"
   ]
  },
  {
   "cell_type": "code",
   "execution_count": 25,
   "id": "b8df3bde-0d26-4ddf-a546-dde7a993ed82",
   "metadata": {},
   "outputs": [
    {
     "data": {
      "text/plain": [
       "int"
      ]
     },
     "execution_count": 25,
     "metadata": {},
     "output_type": "execute_result"
    }
   ],
   "source": [
    "type(benimDegiskenim)"
   ]
  },
  {
   "cell_type": "code",
   "execution_count": 27,
   "id": "6dd81583-a00c-4233-9a32-db31c0e82232",
   "metadata": {},
   "outputs": [],
   "source": [
    "sonuc = benimDigerDegiskenim / benimDegiskenim"
   ]
  },
  {
   "cell_type": "code",
   "execution_count": 29,
   "id": "bf4fc3ef-8ce6-4d76-9a4b-9ad83c7d9dfe",
   "metadata": {},
   "outputs": [
    {
     "data": {
      "text/plain": [
       "float"
      ]
     },
     "execution_count": 29,
     "metadata": {},
     "output_type": "execute_result"
    }
   ],
   "source": [
    "type(sonuc)"
   ]
  },
  {
   "cell_type": "code",
   "execution_count": 31,
   "id": "a8eebcba-3486-4cb0-822c-1ad6867d683a",
   "metadata": {},
   "outputs": [
    {
     "data": {
      "text/plain": [
       "1.5"
      ]
     },
     "execution_count": 31,
     "metadata": {},
     "output_type": "execute_result"
    }
   ],
   "source": [
    "a = 3\n",
    "b = 2\n",
    "a / b"
   ]
  },
  {
   "cell_type": "code",
   "execution_count": 33,
   "id": "fd8959b0-5115-42be-ace6-12b32a5c5f77",
   "metadata": {},
   "outputs": [],
   "source": [
    "pi = 3.14 ##auto-type-inferer-compiler"
   ]
  },
  {
   "cell_type": "code",
   "execution_count": 35,
   "id": "6bb7e75c-5f69-4b74-9fc4-0c85816868ef",
   "metadata": {},
   "outputs": [
    {
     "data": {
      "text/plain": [
       "float"
      ]
     },
     "execution_count": 35,
     "metadata": {},
     "output_type": "execute_result"
    }
   ],
   "source": [
    "type(pi)"
   ]
  },
  {
   "cell_type": "code",
   "execution_count": 39,
   "id": "eeb4bd64-63cb-4afd-971c-4c775c470754",
   "metadata": {},
   "outputs": [
    {
     "data": {
      "text/plain": [
       "int"
      ]
     },
     "execution_count": 39,
     "metadata": {},
     "output_type": "execute_result"
    }
   ],
   "source": [
    "a  = 5\n",
    "type(a)"
   ]
  },
  {
   "cell_type": "code",
   "execution_count": 41,
   "id": "1ac2b1dd-3d0b-45f2-826c-fe10c5b31d65",
   "metadata": {},
   "outputs": [
    {
     "data": {
      "text/plain": [
       "1.592356687898089"
      ]
     },
     "execution_count": 41,
     "metadata": {},
     "output_type": "execute_result"
    }
   ],
   "source": [
    "a / pi"
   ]
  },
  {
   "cell_type": "code",
   "execution_count": 47,
   "id": "1cdd0dcd-3039-4471-bde8-2eb1300eb054",
   "metadata": {},
   "outputs": [
    {
     "data": {
      "text/plain": [
       "int"
      ]
     },
     "execution_count": 47,
     "metadata": {},
     "output_type": "execute_result"
    }
   ],
   "source": [
    "a = 5\n",
    "b = 4 \n",
    "sonuc = a+b \n",
    "type(sonuc)"
   ]
  },
  {
   "cell_type": "code",
   "execution_count": 49,
   "id": "ec0a1cd7-7fbd-4e6a-b59c-89e94cbb1394",
   "metadata": {},
   "outputs": [
    {
     "data": {
      "text/plain": [
       "int"
      ]
     },
     "execution_count": 49,
     "metadata": {},
     "output_type": "execute_result"
    }
   ],
   "source": [
    "sonuc = a * b\n",
    "type(sonuc)"
   ]
  },
  {
   "cell_type": "markdown",
   "id": "720d18cc-79d3-474f-9fae-b9d67ae89b67",
   "metadata": {},
   "source": [
    "## Matematiksel İşlemler"
   ]
  },
  {
   "cell_type": "code",
   "execution_count": 52,
   "id": "9dcc2993-cbf6-48e7-9212-2b02c4bea757",
   "metadata": {},
   "outputs": [],
   "source": [
    "x = 5\n",
    "y = 3"
   ]
  },
  {
   "cell_type": "code",
   "execution_count": 54,
   "id": "e7833b72-5249-4173-84bb-b321e7882f56",
   "metadata": {},
   "outputs": [
    {
     "data": {
      "text/plain": [
       "150"
      ]
     },
     "execution_count": 54,
     "metadata": {},
     "output_type": "execute_result"
    }
   ],
   "source": [
    "x* y * 10"
   ]
  },
  {
   "cell_type": "code",
   "execution_count": 56,
   "id": "40968118-1ace-4808-93b0-90b405fe2726",
   "metadata": {},
   "outputs": [
    {
     "data": {
      "text/plain": [
       "625"
      ]
     },
     "execution_count": 56,
     "metadata": {},
     "output_type": "execute_result"
    }
   ],
   "source": [
    "x * x * x * x "
   ]
  },
  {
   "cell_type": "code",
   "execution_count": 58,
   "id": "4a1a2b78-0668-4949-afb2-6f6c58986f45",
   "metadata": {},
   "outputs": [
    {
     "data": {
      "text/plain": [
       "625"
      ]
     },
     "execution_count": 58,
     "metadata": {},
     "output_type": "execute_result"
    }
   ],
   "source": [
    "x ** 4"
   ]
  },
  {
   "cell_type": "code",
   "execution_count": 60,
   "id": "dec74f6e-5be3-4184-acef-cd0409a33d20",
   "metadata": {},
   "outputs": [
    {
     "data": {
      "text/plain": [
       "0"
      ]
     },
     "execution_count": 60,
     "metadata": {},
     "output_type": "execute_result"
    }
   ],
   "source": [
    "# Remainder (Kalan)\n",
    "10 % 2"
   ]
  },
  {
   "cell_type": "code",
   "execution_count": 62,
   "id": "11d8e47c-1fef-4ddd-b4db-fa1daa3aa1ad",
   "metadata": {},
   "outputs": [
    {
     "data": {
      "text/plain": [
       "1"
      ]
     },
     "execution_count": 62,
     "metadata": {},
     "output_type": "execute_result"
    }
   ],
   "source": [
    "11 % 2"
   ]
  },
  {
   "cell_type": "code",
   "execution_count": 64,
   "id": "3ad85b49-bdc1-43cb-a6a2-a24f87fed41b",
   "metadata": {},
   "outputs": [
    {
     "data": {
      "text/plain": [
       "2"
      ]
     },
     "execution_count": 64,
     "metadata": {},
     "output_type": "execute_result"
    }
   ],
   "source": [
    "11 % 3"
   ]
  },
  {
   "cell_type": "code",
   "execution_count": 66,
   "id": "4e15a580-96e1-4332-9b2c-e470a12e310a",
   "metadata": {},
   "outputs": [
    {
     "data": {
      "text/plain": [
       "16.666666666666668"
      ]
     },
     "execution_count": 66,
     "metadata": {},
     "output_type": "execute_result"
    }
   ],
   "source": [
    "kullanicininYasi = 10 ##camelCase  snake_case\n",
    "kullanicininYasi * 5 / 3"
   ]
  },
  {
   "cell_type": "code",
   "execution_count": 68,
   "id": "0709ea43-dcc3-492c-ad6d-b248ab10dfed",
   "metadata": {},
   "outputs": [
    {
     "name": "stdin",
     "output_type": "stream",
     "text": [
      "Yasinizi Girin:  30\n"
     ]
    }
   ],
   "source": [
    "kullanicininYasi = input(\"Yasinizi Girin: \")"
   ]
  },
  {
   "cell_type": "code",
   "execution_count": 70,
   "id": "a660bcfd-8454-4f19-b9cd-d634d38eb8bf",
   "metadata": {},
   "outputs": [
    {
     "data": {
      "text/plain": [
       "'30'"
      ]
     },
     "execution_count": 70,
     "metadata": {},
     "output_type": "execute_result"
    }
   ],
   "source": [
    "kullanicininYasi"
   ]
  },
  {
   "cell_type": "code",
   "execution_count": 72,
   "id": "a6ca19df-bead-4553-bc90-fb95712101e3",
   "metadata": {},
   "outputs": [
    {
     "data": {
      "text/plain": [
       "str"
      ]
     },
     "execution_count": 72,
     "metadata": {},
     "output_type": "execute_result"
    }
   ],
   "source": [
    "type(kullanicininYasi)"
   ]
  },
  {
   "cell_type": "code",
   "execution_count": 74,
   "id": "2307b33c-91c9-4104-b70c-f91bb6280952",
   "metadata": {},
   "outputs": [
    {
     "data": {
      "text/plain": [
       "'3030303030'"
      ]
     },
     "execution_count": 74,
     "metadata": {},
     "output_type": "execute_result"
    }
   ],
   "source": [
    "kullanicininYasi * 5 "
   ]
  },
  {
   "cell_type": "code",
   "execution_count": 76,
   "id": "ac982cf3-9198-4595-bd5a-d88ec9f125f1",
   "metadata": {},
   "outputs": [
    {
     "name": "stdin",
     "output_type": "stream",
     "text": [
      "Yasinizi Girin:  5\n"
     ]
    }
   ],
   "source": [
    "kullanicininYasi = int(input(\"Yasinizi Girin: \"))"
   ]
  },
  {
   "cell_type": "code",
   "execution_count": 78,
   "id": "73b65dc4-4afb-4605-a609-701d18e47064",
   "metadata": {},
   "outputs": [
    {
     "data": {
      "text/plain": [
       "int"
      ]
     },
     "execution_count": 78,
     "metadata": {},
     "output_type": "execute_result"
    }
   ],
   "source": [
    "type(kullanicininYasi)"
   ]
  },
  {
   "cell_type": "markdown",
   "id": "a6e04c3a-f488-4130-8674-c84065c818d8",
   "metadata": {},
   "source": [
    "##String"
   ]
  },
  {
   "cell_type": "code",
   "execution_count": 81,
   "id": "eb43eb60-b60a-4a47-ab8b-5415cfb14496",
   "metadata": {},
   "outputs": [
    {
     "data": {
      "text/plain": [
       "'Merhaba Dünya'"
      ]
     },
     "execution_count": 81,
     "metadata": {},
     "output_type": "execute_result"
    }
   ],
   "source": [
    "\"Merhaba Dünya\""
   ]
  },
  {
   "cell_type": "code",
   "execution_count": 83,
   "id": "bf1eaf06-d7ac-4023-9cfd-2a5d43784b4d",
   "metadata": {},
   "outputs": [],
   "source": [
    "x = \"MERHABA DÜNYA\""
   ]
  },
  {
   "cell_type": "code",
   "execution_count": 85,
   "id": "46c4433a-69d2-4d1c-8d82-03bf4d4d8a4f",
   "metadata": {},
   "outputs": [],
   "source": [
    "x = 10"
   ]
  },
  {
   "cell_type": "code",
   "execution_count": 87,
   "id": "d0dfff61-4bfe-4c06-9c02-b1214aec07c6",
   "metadata": {},
   "outputs": [],
   "source": [
    "x = 20.5"
   ]
  },
  {
   "cell_type": "code",
   "execution_count": 89,
   "id": "c8b0bb8c-93e5-44bc-88de-18e59b8c084e",
   "metadata": {},
   "outputs": [],
   "source": [
    "x = \"hello\""
   ]
  },
  {
   "cell_type": "code",
   "execution_count": 91,
   "id": "1cdcef64-d5b2-4996-a728-ae223844305c",
   "metadata": {},
   "outputs": [
    {
     "data": {
      "text/plain": [
       "str"
      ]
     },
     "execution_count": 91,
     "metadata": {},
     "output_type": "execute_result"
    }
   ],
   "source": [
    "type(x)"
   ]
  },
  {
   "cell_type": "code",
   "execution_count": 93,
   "id": "328a646c-d79c-4b92-819d-5cea84c91d36",
   "metadata": {},
   "outputs": [
    {
     "data": {
      "text/plain": [
       "str"
      ]
     },
     "execution_count": 93,
     "metadata": {},
     "output_type": "execute_result"
    }
   ],
   "source": [
    "y = 'yeni string'\n",
    "type(y)"
   ]
  },
  {
   "cell_type": "code",
   "execution_count": 97,
   "id": "6b4baea7-b57c-4894-a8ce-92922249276e",
   "metadata": {},
   "outputs": [
    {
     "data": {
      "text/plain": [
       "\"Atıl'ın Yeri\""
      ]
     },
     "execution_count": 97,
     "metadata": {},
     "output_type": "execute_result"
    }
   ],
   "source": [
    "\"Atıl'ın Yeri\""
   ]
  },
  {
   "cell_type": "code",
   "execution_count": 99,
   "id": "38ccb801-b68f-4376-827d-9de2b2e75165",
   "metadata": {},
   "outputs": [],
   "source": [
    "a = 5\n",
    "benimString = \"Atıl Samancıoğlu\""
   ]
  },
  {
   "cell_type": "code",
   "execution_count": 101,
   "id": "821f04c0-6e85-4c92-a76f-3656a3dd8907",
   "metadata": {},
   "outputs": [
    {
     "name": "stdin",
     "output_type": "stream",
     "text": [
      "Yaşınızı Girin:  30\n"
     ]
    }
   ],
   "source": [
    "benimInput = input(\"Yaşınızı Girin: \")"
   ]
  },
  {
   "cell_type": "code",
   "execution_count": 103,
   "id": "722f2a45-aaac-40fe-adcc-ceac3fa9686a",
   "metadata": {},
   "outputs": [
    {
     "data": {
      "text/plain": [
       "str"
      ]
     },
     "execution_count": 103,
     "metadata": {},
     "output_type": "execute_result"
    }
   ],
   "source": [
    "type(benimInput)"
   ]
  },
  {
   "cell_type": "code",
   "execution_count": 105,
   "id": "013fc2a3-5d09-4e03-9aa0-a4019def317e",
   "metadata": {},
   "outputs": [],
   "source": [
    "benimIntInput = int(benimInput)"
   ]
  },
  {
   "cell_type": "code",
   "execution_count": 107,
   "id": "c4624c9b-b27f-453e-be78-09bd62c0c2a0",
   "metadata": {},
   "outputs": [
    {
     "data": {
      "text/plain": [
       "50.0"
      ]
     },
     "execution_count": 107,
     "metadata": {},
     "output_type": "execute_result"
    }
   ],
   "source": [
    "benimIntInput / 3 * 5"
   ]
  },
  {
   "cell_type": "code",
   "execution_count": 109,
   "id": "fe3bfd9b-c616-4198-bdc1-1bbad537060c",
   "metadata": {},
   "outputs": [
    {
     "data": {
      "text/plain": [
       "11"
      ]
     },
     "execution_count": 109,
     "metadata": {},
     "output_type": "execute_result"
    }
   ],
   "source": [
    "k = \"Samancıoğlu\"\n",
    "len(k)"
   ]
  },
  {
   "cell_type": "code",
   "execution_count": 111,
   "id": "37855291-960b-412e-9971-a1a0f6890632",
   "metadata": {},
   "outputs": [
    {
     "name": "stdout",
     "output_type": "stream",
     "text": [
      "merhaba \n",
      " python\n"
     ]
    }
   ],
   "source": [
    "print(\"merhaba \\n python\")"
   ]
  },
  {
   "cell_type": "code",
   "execution_count": 113,
   "id": "2de4d5b4-7c92-416d-8848-bceeba04cb67",
   "metadata": {},
   "outputs": [
    {
     "data": {
      "text/plain": [
       "'Atıl Samancıoğlu'"
      ]
     },
     "execution_count": 113,
     "metadata": {},
     "output_type": "execute_result"
    }
   ],
   "source": [
    "isimString = \"Atıl Samancıoğlu\"\n",
    "isimString"
   ]
  },
  {
   "cell_type": "code",
   "execution_count": 115,
   "id": "8df819b7-2ef0-4a54-9020-8817e2171749",
   "metadata": {},
   "outputs": [
    {
     "data": {
      "text/plain": [
       "'A'"
      ]
     },
     "execution_count": 115,
     "metadata": {},
     "output_type": "execute_result"
    }
   ],
   "source": [
    "isimString[0]"
   ]
  },
  {
   "cell_type": "code",
   "execution_count": 117,
   "id": "e1d8a2e3-8a22-4eb6-bd35-75e4788cb7ed",
   "metadata": {},
   "outputs": [
    {
     "data": {
      "text/plain": [
       "'m'"
      ]
     },
     "execution_count": 117,
     "metadata": {},
     "output_type": "execute_result"
    }
   ],
   "source": [
    "isimString[7]"
   ]
  },
  {
   "cell_type": "code",
   "execution_count": 119,
   "id": "574140a3-f111-4182-ac63-86f8adfea00a",
   "metadata": {},
   "outputs": [
    {
     "data": {
      "text/plain": [
       "' '"
      ]
     },
     "execution_count": 119,
     "metadata": {},
     "output_type": "execute_result"
    }
   ],
   "source": [
    "isimString[4]"
   ]
  },
  {
   "cell_type": "code",
   "execution_count": 121,
   "id": "d74f0ab3-a1bc-4be6-8b4b-f4a72654ac47",
   "metadata": {},
   "outputs": [
    {
     "data": {
      "text/plain": [
       "'u'"
      ]
     },
     "execution_count": 121,
     "metadata": {},
     "output_type": "execute_result"
    }
   ],
   "source": [
    "isimString[-1]"
   ]
  },
  {
   "cell_type": "code",
   "execution_count": 123,
   "id": "9ff3f148-082d-4a72-bdbb-90b6226baac9",
   "metadata": {},
   "outputs": [
    {
     "data": {
      "text/plain": [
       "'Au'"
      ]
     },
     "execution_count": 123,
     "metadata": {},
     "output_type": "execute_result"
    }
   ],
   "source": [
    "isimString[0] + isimString[-1]"
   ]
  },
  {
   "cell_type": "code",
   "execution_count": 125,
   "id": "2207d424-25de-4598-9407-98bf4d83dbb8",
   "metadata": {},
   "outputs": [
    {
     "data": {
      "text/plain": [
       "'23456789'"
      ]
     },
     "execution_count": 125,
     "metadata": {},
     "output_type": "execute_result"
    }
   ],
   "source": [
    "yeniString = \"0123456789\"\n",
    "yeniString[2:]"
   ]
  },
  {
   "cell_type": "code",
   "execution_count": 127,
   "id": "26e9cf3b-bdc2-4150-ae73-79a71aada5ab",
   "metadata": {},
   "outputs": [
    {
     "data": {
      "text/plain": [
       "'defgh'"
      ]
     },
     "execution_count": 127,
     "metadata": {},
     "output_type": "execute_result"
    }
   ],
   "source": [
    "harfString =\"abcdefgh\"\n",
    "harfString[3:]"
   ]
  },
  {
   "cell_type": "code",
   "execution_count": 129,
   "id": "66834f42-9844-468f-a11d-75d3083dff00",
   "metadata": {},
   "outputs": [
    {
     "data": {
      "text/plain": [
       "'abc'"
      ]
     },
     "execution_count": 129,
     "metadata": {},
     "output_type": "execute_result"
    }
   ],
   "source": [
    "harfString[:3]"
   ]
  },
  {
   "cell_type": "markdown",
   "id": "1f1f845b-0187-4a52-a20b-a37dc60554f0",
   "metadata": {},
   "source": [
    "## String Slicing"
   ]
  },
  {
   "cell_type": "code",
   "execution_count": 132,
   "id": "4577e224-e4be-42d9-8548-64d7ea74a120",
   "metadata": {},
   "outputs": [],
   "source": [
    "gelenVeri = \"AhmetinYasi65\""
   ]
  },
  {
   "cell_type": "code",
   "execution_count": 134,
   "id": "952b5412-41df-44dd-9005-682574faa207",
   "metadata": {},
   "outputs": [
    {
     "data": {
      "text/plain": [
       "'me'"
      ]
     },
     "execution_count": 134,
     "metadata": {},
     "output_type": "execute_result"
    }
   ],
   "source": [
    "gelenVeri[2:4]"
   ]
  },
  {
   "cell_type": "code",
   "execution_count": 136,
   "id": "62c6a3a0-1b03-48c9-a3ce-64ecc89cdb77",
   "metadata": {},
   "outputs": [],
   "source": [
    "#Step Size"
   ]
  },
  {
   "cell_type": "code",
   "execution_count": 138,
   "id": "f900aac1-e76d-4b4a-b10a-bba9a46065b2",
   "metadata": {},
   "outputs": [
    {
     "data": {
      "text/plain": [
       "'htY'"
      ]
     },
     "execution_count": 138,
     "metadata": {},
     "output_type": "execute_result"
    }
   ],
   "source": [
    "gelenVeri[1:10:3]"
   ]
  },
  {
   "cell_type": "code",
   "execution_count": 140,
   "id": "a2f1d691-d6d6-4fa9-b4e4-42dc5f43988d",
   "metadata": {},
   "outputs": [
    {
     "data": {
      "text/plain": [
       "'56isaYnitemhA'"
      ]
     },
     "execution_count": 140,
     "metadata": {},
     "output_type": "execute_result"
    }
   ],
   "source": [
    "gelenVeri[::-1]"
   ]
  },
  {
   "cell_type": "code",
   "execution_count": 142,
   "id": "03e28384-b13b-45f4-84c9-f98331cd0cae",
   "metadata": {},
   "outputs": [],
   "source": [
    "benimIsmim = \"atıl\""
   ]
  },
  {
   "cell_type": "code",
   "execution_count": 148,
   "id": "aa8465aa-b8b8-4544-af85-1b883facef4a",
   "metadata": {},
   "outputs": [
    {
     "data": {
      "text/plain": [
       "'Atıl'"
      ]
     },
     "execution_count": 148,
     "metadata": {},
     "output_type": "execute_result"
    }
   ],
   "source": [
    "benimIsmim.capitalize()  ##Strings are Immutable"
   ]
  },
  {
   "cell_type": "code",
   "execution_count": 146,
   "id": "c68af7c5-c96c-4d22-a5ca-a20193207896",
   "metadata": {},
   "outputs": [
    {
     "data": {
      "text/plain": [
       "'atıl'"
      ]
     },
     "execution_count": 146,
     "metadata": {},
     "output_type": "execute_result"
    }
   ],
   "source": [
    "benimIsmim"
   ]
  },
  {
   "cell_type": "code",
   "execution_count": 150,
   "id": "ca5961c3-d0d3-46c4-8cb8-30ee7c37207a",
   "metadata": {},
   "outputs": [],
   "source": [
    "benimYeniIsmim = benimIsmim.capitalize()"
   ]
  },
  {
   "cell_type": "code",
   "execution_count": 152,
   "id": "e8650ff2-44cb-45f7-837d-566c73b63a5c",
   "metadata": {},
   "outputs": [
    {
     "data": {
      "text/plain": [
       "'Atıl'"
      ]
     },
     "execution_count": 152,
     "metadata": {},
     "output_type": "execute_result"
    }
   ],
   "source": [
    "benimYeniIsmim"
   ]
  },
  {
   "cell_type": "code",
   "execution_count": 154,
   "id": "b0845bbb-8aad-44f8-837b-dbbe440dbe2b",
   "metadata": {},
   "outputs": [
    {
     "data": {
      "text/plain": [
       "'atıl'"
      ]
     },
     "execution_count": 154,
     "metadata": {},
     "output_type": "execute_result"
    }
   ],
   "source": [
    "benimIsmim"
   ]
  },
  {
   "cell_type": "code",
   "execution_count": 156,
   "id": "75fc9ef9-b5af-40ec-a527-dd60649a6d6c",
   "metadata": {},
   "outputs": [],
   "source": [
    "benimTamIsmim = \"Atıl Samancıoğlu Test\""
   ]
  },
  {
   "cell_type": "code",
   "execution_count": 158,
   "id": "738a46b5-3efe-458c-bcea-eedbeeba3338",
   "metadata": {},
   "outputs": [
    {
     "data": {
      "text/plain": [
       "['Atıl', 'Samancıoğlu', 'Test']"
      ]
     },
     "execution_count": 158,
     "metadata": {},
     "output_type": "execute_result"
    }
   ],
   "source": [
    "benimTamIsmim.split()"
   ]
  },
  {
   "cell_type": "code",
   "execution_count": 160,
   "id": "e4a7d950-ec7e-47c9-987f-af8dd4a7eede",
   "metadata": {},
   "outputs": [
    {
     "data": {
      "text/plain": [
       "'ATIL SAMANCIOĞLU TEST'"
      ]
     },
     "execution_count": 160,
     "metadata": {},
     "output_type": "execute_result"
    }
   ],
   "source": [
    "benimTamIsmim.upper()"
   ]
  },
  {
   "cell_type": "code",
   "execution_count": 162,
   "id": "e8aa801c-66ae-4a7d-b116-76785e22f463",
   "metadata": {},
   "outputs": [
    {
     "data": {
      "text/plain": [
       "'atıl'"
      ]
     },
     "execution_count": 162,
     "metadata": {},
     "output_type": "execute_result"
    }
   ],
   "source": [
    "benimIsmim"
   ]
  },
  {
   "cell_type": "code",
   "execution_count": 164,
   "id": "1c3a48eb-4a71-44dc-a04a-210dce92631e",
   "metadata": {},
   "outputs": [],
   "source": [
    "benimSoyismim = \"samancıoğlu\""
   ]
  },
  {
   "cell_type": "code",
   "execution_count": 166,
   "id": "ca5a1d26-b4e4-4c5e-a9a6-686ec4d315fe",
   "metadata": {},
   "outputs": [
    {
     "data": {
      "text/plain": [
       "'atıl samancıoğlu'"
      ]
     },
     "execution_count": 166,
     "metadata": {},
     "output_type": "execute_result"
    }
   ],
   "source": [
    "benimIsmim + \" \" + benimSoyismim"
   ]
  },
  {
   "cell_type": "code",
   "execution_count": 168,
   "id": "65f92996-458b-44d2-a778-f8eaf0797227",
   "metadata": {},
   "outputs": [
    {
     "data": {
      "text/plain": [
       "'510'"
      ]
     },
     "execution_count": 168,
     "metadata": {},
     "output_type": "execute_result"
    }
   ],
   "source": [
    "j = \"5\"\n",
    "k = \"10\"\n",
    "j + k"
   ]
  },
  {
   "cell_type": "markdown",
   "id": "f65f275f-5fee-40ca-873a-01a8c3980792",
   "metadata": {},
   "source": [
    "## Listeler"
   ]
  },
  {
   "cell_type": "code",
   "execution_count": 171,
   "id": "98829f6e-1424-46f5-89ee-ffb808040202",
   "metadata": {},
   "outputs": [],
   "source": [
    "benimString = \"Atıl Samancıoğlu\""
   ]
  },
  {
   "cell_type": "code",
   "execution_count": 173,
   "id": "86acbfe1-590e-4810-a107-bfadd4c5d794",
   "metadata": {},
   "outputs": [
    {
     "data": {
      "text/plain": [
       "'A'"
      ]
     },
     "execution_count": 173,
     "metadata": {},
     "output_type": "execute_result"
    }
   ],
   "source": [
    "benimString[0]"
   ]
  },
  {
   "cell_type": "code",
   "execution_count": 175,
   "id": "348164de-3543-416f-9206-958f75fbd2bf",
   "metadata": {},
   "outputs": [],
   "source": [
    "# immutability & mutable"
   ]
  },
  {
   "cell_type": "code",
   "execution_count": 177,
   "id": "41ad06cc-b39f-40da-835e-a8fb2149e685",
   "metadata": {},
   "outputs": [],
   "source": [
    "#benimString[0] = \"B\""
   ]
  },
  {
   "cell_type": "code",
   "execution_count": 179,
   "id": "26feedd6-88e0-4b1b-9f74-7ec623a1c2d7",
   "metadata": {},
   "outputs": [],
   "source": [
    "benimListem = [10,20,30,40]"
   ]
  },
  {
   "cell_type": "code",
   "execution_count": 181,
   "id": "d34e18db-ba69-464e-ad94-6e7de62e644a",
   "metadata": {},
   "outputs": [
    {
     "data": {
      "text/plain": [
       "list"
      ]
     },
     "execution_count": 181,
     "metadata": {},
     "output_type": "execute_result"
    }
   ],
   "source": [
    "type(benimListem)"
   ]
  },
  {
   "cell_type": "code",
   "execution_count": 183,
   "id": "d3a107d5-5553-4845-a4c5-2a97dc80ff2a",
   "metadata": {},
   "outputs": [
    {
     "data": {
      "text/plain": [
       "40"
      ]
     },
     "execution_count": 183,
     "metadata": {},
     "output_type": "execute_result"
    }
   ],
   "source": [
    "benimNumaram = 10\n",
    "benimDigerNumaram = 20\n",
    "benimNumaraListem = [benimNumaram,benimDigerNumaram]\n",
    "benimListem[3]"
   ]
  },
  {
   "cell_type": "code",
   "execution_count": 185,
   "id": "a19071ca-4c74-445a-b432-0039233663ed",
   "metadata": {},
   "outputs": [
    {
     "data": {
      "text/plain": [
       "10"
      ]
     },
     "execution_count": 185,
     "metadata": {},
     "output_type": "execute_result"
    }
   ],
   "source": [
    "benimNumaraListem[0]"
   ]
  },
  {
   "cell_type": "code",
   "execution_count": 187,
   "id": "2c01653c-5d47-477a-808b-e1bb1899020d",
   "metadata": {},
   "outputs": [
    {
     "data": {
      "text/plain": [
       "[10, 20, 30, 40]"
      ]
     },
     "execution_count": 187,
     "metadata": {},
     "output_type": "execute_result"
    }
   ],
   "source": [
    "benimListem"
   ]
  },
  {
   "cell_type": "code",
   "execution_count": 189,
   "id": "80507cd3-479e-4b4b-b418-d8a4788cd581",
   "metadata": {},
   "outputs": [],
   "source": [
    "benimListem[0] = 100"
   ]
  },
  {
   "cell_type": "code",
   "execution_count": 191,
   "id": "b2fd9bac-f9f1-49ba-9405-cfe0aa0f21ac",
   "metadata": {},
   "outputs": [
    {
     "data": {
      "text/plain": [
       "[100, 20, 30, 40]"
      ]
     },
     "execution_count": 191,
     "metadata": {},
     "output_type": "execute_result"
    }
   ],
   "source": [
    "benimListem"
   ]
  },
  {
   "cell_type": "code",
   "execution_count": 193,
   "id": "8c52e683-cfa5-4ad7-8c3c-a6bc0ef205b3",
   "metadata": {},
   "outputs": [],
   "source": [
    "benimListem.append(50)"
   ]
  },
  {
   "cell_type": "code",
   "execution_count": 195,
   "id": "86b37606-26ee-45bb-9fdc-48dfa8ebb2db",
   "metadata": {},
   "outputs": [
    {
     "data": {
      "text/plain": [
       "[100, 20, 30, 40, 50]"
      ]
     },
     "execution_count": 195,
     "metadata": {},
     "output_type": "execute_result"
    }
   ],
   "source": [
    "benimListem"
   ]
  },
  {
   "cell_type": "code",
   "execution_count": 197,
   "id": "36718573-21e8-4db8-aac6-62109b469c00",
   "metadata": {},
   "outputs": [
    {
     "data": {
      "text/plain": [
       "50"
      ]
     },
     "execution_count": 197,
     "metadata": {},
     "output_type": "execute_result"
    }
   ],
   "source": [
    "benimListem.pop()"
   ]
  },
  {
   "cell_type": "code",
   "execution_count": 199,
   "id": "92aa0846-3001-45e3-b630-bade2d2dd442",
   "metadata": {},
   "outputs": [
    {
     "data": {
      "text/plain": [
       "[100, 20, 30, 40]"
      ]
     },
     "execution_count": 199,
     "metadata": {},
     "output_type": "execute_result"
    }
   ],
   "source": [
    "benimListem"
   ]
  },
  {
   "cell_type": "code",
   "execution_count": 201,
   "id": "5225a929-700f-4102-b8a2-1929e281e93f",
   "metadata": {},
   "outputs": [],
   "source": [
    "benimListem.remove(40)"
   ]
  },
  {
   "cell_type": "code",
   "execution_count": 203,
   "id": "305cf847-0523-4f84-afcb-452f59a288b2",
   "metadata": {},
   "outputs": [
    {
     "data": {
      "text/plain": [
       "[100, 20, 30]"
      ]
     },
     "execution_count": 203,
     "metadata": {},
     "output_type": "execute_result"
    }
   ],
   "source": [
    "benimListem"
   ]
  },
  {
   "cell_type": "code",
   "execution_count": 205,
   "id": "adc41f34-90a2-49ee-8d64-9b613b0fb44f",
   "metadata": {},
   "outputs": [
    {
     "data": {
      "text/plain": [
       "1"
      ]
     },
     "execution_count": 205,
     "metadata": {},
     "output_type": "execute_result"
    }
   ],
   "source": [
    "benimListem.count(20)"
   ]
  },
  {
   "cell_type": "code",
   "execution_count": 207,
   "id": "6418e758-409d-4c12-a022-ae00f42bc699",
   "metadata": {},
   "outputs": [],
   "source": [
    "benimListem.append(20)"
   ]
  },
  {
   "cell_type": "code",
   "execution_count": 209,
   "id": "655047a5-4074-4a54-afe5-71abc9d46046",
   "metadata": {},
   "outputs": [
    {
     "data": {
      "text/plain": [
       "[100, 20, 30, 20]"
      ]
     },
     "execution_count": 209,
     "metadata": {},
     "output_type": "execute_result"
    }
   ],
   "source": [
    "benimListem"
   ]
  },
  {
   "cell_type": "code",
   "execution_count": 211,
   "id": "91774989-7326-48b0-8621-3c615c3390f0",
   "metadata": {},
   "outputs": [
    {
     "data": {
      "text/plain": [
       "2"
      ]
     },
     "execution_count": 211,
     "metadata": {},
     "output_type": "execute_result"
    }
   ],
   "source": [
    "benimListem.count(20)"
   ]
  },
  {
   "cell_type": "code",
   "execution_count": 213,
   "id": "47820270-4247-476e-8428-65e25717f51d",
   "metadata": {},
   "outputs": [
    {
     "data": {
      "text/plain": [
       "['atıl', 'ahmet', 'zeynep', 'mehmet', 'mahmut', 'atlas']"
      ]
     },
     "execution_count": 213,
     "metadata": {},
     "output_type": "execute_result"
    }
   ],
   "source": [
    "benimStringListem = [\"atıl\",\"ahmet\",\"zeynep\"]\n",
    "benimDigerListem = [\"mehmet\", \"mahmut\", \"atlas\"]\n",
    "benimToplamaListem = benimStringListem + benimDigerListem\n",
    "benimToplamaListem"
   ]
  },
  {
   "cell_type": "code",
   "execution_count": 215,
   "id": "4613f6a3-5c65-4974-b598-abb6448924a0",
   "metadata": {},
   "outputs": [
    {
     "data": {
      "text/plain": [
       "['atıl',\n",
       " 'ahmet',\n",
       " 'zeynep',\n",
       " 'atıl',\n",
       " 'ahmet',\n",
       " 'zeynep',\n",
       " 'atıl',\n",
       " 'ahmet',\n",
       " 'zeynep',\n",
       " 'atıl',\n",
       " 'ahmet',\n",
       " 'zeynep',\n",
       " 'atıl',\n",
       " 'ahmet',\n",
       " 'zeynep']"
      ]
     },
     "execution_count": 215,
     "metadata": {},
     "output_type": "execute_result"
    }
   ],
   "source": [
    "benimStringListem * 5"
   ]
  },
  {
   "cell_type": "code",
   "execution_count": 229,
   "id": "00d66efa-16d0-4645-bc55-1151c179ba5e",
   "metadata": {},
   "outputs": [
    {
     "data": {
      "text/plain": [
       "['atıl', 'ahmet', 'zeynep', 'mehmet', 'mahmut', 'atlas']"
      ]
     },
     "execution_count": 229,
     "metadata": {},
     "output_type": "execute_result"
    }
   ],
   "source": [
    "benimToplamaListem"
   ]
  },
  {
   "cell_type": "code",
   "execution_count": 231,
   "id": "da5fe5b8-db01-4846-b48c-507fe04154d4",
   "metadata": {},
   "outputs": [],
   "source": [
    "benimToplamaListem.reverse()"
   ]
  },
  {
   "cell_type": "code",
   "execution_count": 233,
   "id": "eb4c6b58-5dbb-4b47-9458-9d99d391382c",
   "metadata": {},
   "outputs": [
    {
     "data": {
      "text/plain": [
       "['atlas', 'mahmut', 'mehmet', 'zeynep', 'ahmet', 'atıl']"
      ]
     },
     "execution_count": 233,
     "metadata": {},
     "output_type": "execute_result"
    }
   ],
   "source": [
    "benimToplamaListem"
   ]
  },
  {
   "cell_type": "code",
   "execution_count": 235,
   "id": "5ad631ff-2e1a-4776-9435-e42a00b8e1a6",
   "metadata": {},
   "outputs": [],
   "source": [
    "karisikListe = [1,2,3.5,\"atıl\",9]"
   ]
  },
  {
   "cell_type": "code",
   "execution_count": 237,
   "id": "2aa82ec1-ee99-4ca6-98b9-34cc0ceabab9",
   "metadata": {},
   "outputs": [
    {
     "data": {
      "text/plain": [
       "list"
      ]
     },
     "execution_count": 237,
     "metadata": {},
     "output_type": "execute_result"
    }
   ],
   "source": [
    "type(karisikListe)"
   ]
  },
  {
   "cell_type": "code",
   "execution_count": 239,
   "id": "f1245359-9b8f-4d35-a938-acfcec7f3078",
   "metadata": {},
   "outputs": [
    {
     "data": {
      "text/plain": [
       "'atıl'"
      ]
     },
     "execution_count": 239,
     "metadata": {},
     "output_type": "execute_result"
    }
   ],
   "source": [
    "sonucum = karisikListe[3]\n",
    "karisikListe[3]"
   ]
  },
  {
   "cell_type": "code",
   "execution_count": 241,
   "id": "a30312df-5691-456d-8afe-c0f2affd6be4",
   "metadata": {},
   "outputs": [
    {
     "data": {
      "text/plain": [
       "str"
      ]
     },
     "execution_count": 241,
     "metadata": {},
     "output_type": "execute_result"
    }
   ],
   "source": [
    "type(sonucum)"
   ]
  },
  {
   "cell_type": "code",
   "execution_count": 243,
   "id": "36c81795-6067-4de5-b2a8-4818e50455ed",
   "metadata": {},
   "outputs": [],
   "source": [
    "nestedList = [1,5,\"atıl\",4,[6,\"z\"]]"
   ]
  },
  {
   "cell_type": "code",
   "execution_count": 245,
   "id": "1c6f1316-fb55-4b18-8bd8-6ed23ea614ff",
   "metadata": {},
   "outputs": [
    {
     "data": {
      "text/plain": [
       "'z'"
      ]
     },
     "execution_count": 245,
     "metadata": {},
     "output_type": "execute_result"
    }
   ],
   "source": [
    "zDegiskenimiz = nestedList[4][1]\n",
    "zDegiskenimiz"
   ]
  },
  {
   "cell_type": "code",
   "execution_count": 247,
   "id": "61c4ba0a-784c-41aa-b209-03466f423974",
   "metadata": {},
   "outputs": [],
   "source": [
    "karmasikListe = [[1,2,3,[\"a\",\"b\"],50],40,20,[\"z\",5.5],[3,[\"a\"]]]"
   ]
  },
  {
   "cell_type": "code",
   "execution_count": 249,
   "id": "bfa0344a-0503-4552-aa27-1b286aa60902",
   "metadata": {},
   "outputs": [
    {
     "data": {
      "text/plain": [
       "'b'"
      ]
     },
     "execution_count": 249,
     "metadata": {},
     "output_type": "execute_result"
    }
   ],
   "source": [
    "bDegiskenimiz = karmasikListe[0][3][1]\n",
    "bDegiskenimiz"
   ]
  },
  {
   "cell_type": "code",
   "execution_count": 251,
   "id": "e5814576-3fe0-446f-9730-4518fec7f147",
   "metadata": {},
   "outputs": [
    {
     "data": {
      "text/plain": [
       "[1, 5, 'atıl', 4, [6, 'z']]"
      ]
     },
     "execution_count": 251,
     "metadata": {},
     "output_type": "execute_result"
    }
   ],
   "source": [
    "nestedList"
   ]
  },
  {
   "cell_type": "code",
   "execution_count": 253,
   "id": "f89123a5-898f-47eb-a178-95ee4436e592",
   "metadata": {},
   "outputs": [
    {
     "data": {
      "text/plain": [
       "list"
      ]
     },
     "execution_count": 253,
     "metadata": {},
     "output_type": "execute_result"
    }
   ],
   "source": [
    "type(nestedList[:2])"
   ]
  },
  {
   "cell_type": "code",
   "execution_count": 255,
   "id": "7689abe4-3eda-4d70-b5cd-b4b065b308a7",
   "metadata": {},
   "outputs": [
    {
     "data": {
      "text/plain": [
       "str"
      ]
     },
     "execution_count": 255,
     "metadata": {},
     "output_type": "execute_result"
    }
   ],
   "source": [
    "type(nestedList[2])"
   ]
  },
  {
   "cell_type": "markdown",
   "id": "a6343c60-e886-4c9a-8f03-30f98536fa38",
   "metadata": {},
   "source": [
    "## Dictionary (Sözlük)"
   ]
  },
  {
   "cell_type": "code",
   "execution_count": 258,
   "id": "90a5d1c9-2c55-456b-8148-638074d2c41f",
   "metadata": {},
   "outputs": [
    {
     "data": {
      "text/plain": [
       "1"
      ]
     },
     "execution_count": 258,
     "metadata": {},
     "output_type": "execute_result"
    }
   ],
   "source": [
    "benimListem = [1,2,3]\n",
    "benimListem[0]"
   ]
  },
  {
   "cell_type": "code",
   "execution_count": 260,
   "id": "6a9673ac-8dd0-4612-bbb3-f08e463a1752",
   "metadata": {},
   "outputs": [
    {
     "data": {
      "text/plain": [
       "'Karpuz'"
      ]
     },
     "execution_count": 260,
     "metadata": {},
     "output_type": "execute_result"
    }
   ],
   "source": [
    "## key-value pairing (anahtar kelime - değer eşleşmesi)\n",
    "benimYemeklerim = [\"Elma\", \"Karpuz\", \"Muz\"]\n",
    "benimKalorilerim = [100,200,300]\n",
    "benimYemeklerim[1]"
   ]
  },
  {
   "cell_type": "code",
   "execution_count": 262,
   "id": "c628cc62-b1e2-4354-bff3-6ea114fa9308",
   "metadata": {},
   "outputs": [
    {
     "data": {
      "text/plain": [
       "200"
      ]
     },
     "execution_count": 262,
     "metadata": {},
     "output_type": "execute_result"
    }
   ],
   "source": [
    "benimKalorilerim[1]"
   ]
  },
  {
   "cell_type": "code",
   "execution_count": 274,
   "id": "5db0101a-88ea-470b-9654-051b10febf55",
   "metadata": {},
   "outputs": [],
   "source": [
    "#dictionary --> hashmap gibi"
   ]
  },
  {
   "cell_type": "code",
   "execution_count": 266,
   "id": "66615517-4b5d-445f-8ff4-23db3d819fbf",
   "metadata": {},
   "outputs": [],
   "source": [
    "benimSozluk = {\"anahtarkelime\" : \"deger\"}"
   ]
  },
  {
   "cell_type": "code",
   "execution_count": 268,
   "id": "3834206c-b65e-4896-bf91-8e74ef52b48f",
   "metadata": {},
   "outputs": [
    {
     "data": {
      "text/plain": [
       "dict"
      ]
     },
     "execution_count": 268,
     "metadata": {},
     "output_type": "execute_result"
    }
   ],
   "source": [
    "type(benimSozluk)"
   ]
  },
  {
   "cell_type": "code",
   "execution_count": 270,
   "id": "80067249-0bc2-48d8-be22-f91860596849",
   "metadata": {},
   "outputs": [
    {
     "data": {
      "text/plain": [
       "'deger'"
      ]
     },
     "execution_count": 270,
     "metadata": {},
     "output_type": "execute_result"
    }
   ],
   "source": [
    "benimSozluk[\"anahtarkelime\"]"
   ]
  },
  {
   "cell_type": "code",
   "execution_count": 276,
   "id": "4c9cfa08-2016-4974-b27c-2d450d65a7d8",
   "metadata": {},
   "outputs": [
    {
     "data": {
      "text/plain": [
       "300"
      ]
     },
     "execution_count": 276,
     "metadata": {},
     "output_type": "execute_result"
    }
   ],
   "source": [
    "benimYemekKaloriSozlugum = {\"elma\" : 100, \"karpuz\" : 200, \"muz\" : 300}\n",
    "benimYemekKaloriSozlugum[\"muz\"]"
   ]
  },
  {
   "cell_type": "code",
   "execution_count": 280,
   "id": "83e773c9-0ac3-4484-bd8c-3f321f79cc7f",
   "metadata": {},
   "outputs": [
    {
     "data": {
      "text/plain": [
       "{'elma': 200, 'karpuz': 200, 'muz': 300}"
      ]
     },
     "execution_count": 280,
     "metadata": {},
     "output_type": "execute_result"
    }
   ],
   "source": [
    "benimYemekKaloriSozlugum[\"elma\"] = 200\n",
    "benimYemekKaloriSozlugum"
   ]
  },
  {
   "cell_type": "code",
   "execution_count": 282,
   "id": "84f12649-3fd7-4a0f-9f01-2ceea00c17ca",
   "metadata": {},
   "outputs": [
    {
     "data": {
      "text/plain": [
       "'atıl'"
      ]
     },
     "execution_count": 282,
     "metadata": {},
     "output_type": "execute_result"
    }
   ],
   "source": [
    "benimDegisikSozlugum = {150:\"atıl\",-2:\"atlas\"}\n",
    "benimDegisikSozlugum[150]"
   ]
  },
  {
   "cell_type": "code",
   "execution_count": 284,
   "id": "5c84a830-79b7-47c4-a82f-7d585f89e706",
   "metadata": {},
   "outputs": [
    {
     "data": {
      "text/plain": [
       "dict_keys(['anahtar1', 'anahtar2', 'anahtar3'])"
      ]
     },
     "execution_count": 284,
     "metadata": {},
     "output_type": "execute_result"
    }
   ],
   "source": [
    "yeniDictionary = {\"anahtar1\" : 100, \"anahtar2\" : [10,20,30,40,4.5,\"atıl\"],\"anahtar3\" : {\"anahtar9\" : 4}}\n",
    "yeniDictionary.keys()"
   ]
  },
  {
   "cell_type": "code",
   "execution_count": 286,
   "id": "8cbed5e5-eea2-4adb-b794-bc27d01fc6c8",
   "metadata": {},
   "outputs": [
    {
     "data": {
      "text/plain": [
       "dict_values([100, [10, 20, 30, 40, 4.5, 'atıl'], {'anahtar9': 4}])"
      ]
     },
     "execution_count": 286,
     "metadata": {},
     "output_type": "execute_result"
    }
   ],
   "source": [
    "yeniDictionary.values()"
   ]
  },
  {
   "cell_type": "code",
   "execution_count": 288,
   "id": "4f4b5750-8032-4125-a056-0594142caaf1",
   "metadata": {},
   "outputs": [
    {
     "data": {
      "text/plain": [
       "'atıl'"
      ]
     },
     "execution_count": 288,
     "metadata": {},
     "output_type": "execute_result"
    }
   ],
   "source": [
    "yeniDictionary[\"anahtar2\"][-1]"
   ]
  },
  {
   "cell_type": "code",
   "execution_count": 290,
   "id": "6852a79d-929f-4763-b024-b3da6124abab",
   "metadata": {},
   "outputs": [
    {
     "data": {
      "text/plain": [
       "4"
      ]
     },
     "execution_count": 290,
     "metadata": {},
     "output_type": "execute_result"
    }
   ],
   "source": [
    "yeniDictionary[\"anahtar3\"][\"anahtar9\"]"
   ]
  },
  {
   "cell_type": "markdown",
   "id": "f8265b66-96f4-4154-bf78-7c4a598785a8",
   "metadata": {},
   "source": [
    "## Tuple\n"
   ]
  },
  {
   "cell_type": "code",
   "execution_count": 293,
   "id": "7d126ffa-a617-445b-a46e-ed7173f598e7",
   "metadata": {},
   "outputs": [
    {
     "data": {
      "text/plain": [
       "1"
      ]
     },
     "execution_count": 293,
     "metadata": {},
     "output_type": "execute_result"
    }
   ],
   "source": [
    "benimListem = [1,2,\"a\",4.5]\n",
    "benimListem[0]"
   ]
  },
  {
   "cell_type": "code",
   "execution_count": 295,
   "id": "e95d383d-0d86-4e5e-98dc-d66e63393eaa",
   "metadata": {},
   "outputs": [
    {
     "data": {
      "text/plain": [
       "[100, 2, 'a', 4.5]"
      ]
     },
     "execution_count": 295,
     "metadata": {},
     "output_type": "execute_result"
    }
   ],
   "source": [
    "benimListem[0] = 100\n",
    "benimListem"
   ]
  },
  {
   "cell_type": "code",
   "execution_count": 299,
   "id": "a13d5e68-4c7c-40d4-a725-65bd991d367d",
   "metadata": {},
   "outputs": [
    {
     "data": {
      "text/plain": [
       "(1, 2, 'a', 4.5)"
      ]
     },
     "execution_count": 299,
     "metadata": {},
     "output_type": "execute_result"
    }
   ],
   "source": [
    "benimTuple = (1,2,\"a\",4.5)\n",
    "benimTuple"
   ]
  },
  {
   "cell_type": "code",
   "execution_count": 301,
   "id": "f4afcbbf-c814-4a3c-80ec-74ffd51f1d5d",
   "metadata": {},
   "outputs": [
    {
     "data": {
      "text/plain": [
       "1"
      ]
     },
     "execution_count": 301,
     "metadata": {},
     "output_type": "execute_result"
    }
   ],
   "source": [
    "benimTuple[0]"
   ]
  },
  {
   "cell_type": "code",
   "execution_count": 303,
   "id": "93e0bb48-4810-45d3-a45a-d1f68d17d69a",
   "metadata": {},
   "outputs": [
    {
     "ename": "TypeError",
     "evalue": "'tuple' object does not support item assignment",
     "output_type": "error",
     "traceback": [
      "\u001b[1;31m---------------------------------------------------------------------------\u001b[0m",
      "\u001b[1;31mTypeError\u001b[0m                                 Traceback (most recent call last)",
      "Cell \u001b[1;32mIn[303], line 1\u001b[0m\n\u001b[1;32m----> 1\u001b[0m \u001b[43mbenimTuple\u001b[49m\u001b[43m[\u001b[49m\u001b[38;5;241;43m2\u001b[39;49m\u001b[43m]\u001b[49m \u001b[38;5;241m=\u001b[39m \u001b[38;5;124m\"\u001b[39m\u001b[38;5;124mb\u001b[39m\u001b[38;5;124m\"\u001b[39m\n",
      "\u001b[1;31mTypeError\u001b[0m: 'tuple' object does not support item assignment"
     ]
    }
   ],
   "source": [
    "benimTuple[2] = \"b\""
   ]
  },
  {
   "cell_type": "code",
   "execution_count": 305,
   "id": "7b2e8c9a-483a-4834-9ec6-8db123ad48ff",
   "metadata": {},
   "outputs": [
    {
     "data": {
      "text/plain": [
       "1"
      ]
     },
     "execution_count": 305,
     "metadata": {},
     "output_type": "execute_result"
    }
   ],
   "source": [
    "benimTuple.count(\"a\")"
   ]
  },
  {
   "cell_type": "code",
   "execution_count": 307,
   "id": "88af169e-c50f-44d8-aee5-e943e07137e1",
   "metadata": {},
   "outputs": [
    {
     "data": {
      "text/plain": [
       "3"
      ]
     },
     "execution_count": 307,
     "metadata": {},
     "output_type": "execute_result"
    }
   ],
   "source": [
    "benimTuple.index(4.5)"
   ]
  },
  {
   "cell_type": "markdown",
   "id": "eac2d3d8-bd76-4687-a30b-cbaf6cc5a8d6",
   "metadata": {},
   "source": [
    "## Set"
   ]
  },
  {
   "cell_type": "code",
   "execution_count": 310,
   "id": "5471e89a-6f16-440c-be56-738ca3afab47",
   "metadata": {},
   "outputs": [
    {
     "data": {
      "text/plain": [
       "[1, 2, 3, 1, 2, 3]"
      ]
     },
     "execution_count": 310,
     "metadata": {},
     "output_type": "execute_result"
    }
   ],
   "source": [
    "benimListem = [1,2,3,1,2,3]\n",
    "benimListem"
   ]
  },
  {
   "cell_type": "code",
   "execution_count": 312,
   "id": "009128fd-4643-4ccd-b626-997be014bffb",
   "metadata": {},
   "outputs": [],
   "source": [
    "benimListeSetim = set(benimListem)"
   ]
  },
  {
   "cell_type": "code",
   "execution_count": 314,
   "id": "1afc63bf-78c4-43ba-89ac-918bfdb8763b",
   "metadata": {},
   "outputs": [
    {
     "data": {
      "text/plain": [
       "list"
      ]
     },
     "execution_count": 314,
     "metadata": {},
     "output_type": "execute_result"
    }
   ],
   "source": [
    "type(benimListem)"
   ]
  },
  {
   "cell_type": "code",
   "execution_count": 316,
   "id": "92058862-5383-48dd-990a-9ae02e62e62c",
   "metadata": {},
   "outputs": [
    {
     "data": {
      "text/plain": [
       "set"
      ]
     },
     "execution_count": 316,
     "metadata": {},
     "output_type": "execute_result"
    }
   ],
   "source": [
    "type(benimListeSetim)"
   ]
  },
  {
   "cell_type": "code",
   "execution_count": 318,
   "id": "9eb505ea-f202-4106-b418-c84bc39c1b6a",
   "metadata": {},
   "outputs": [
    {
     "data": {
      "text/plain": [
       "{1, 2, 3}"
      ]
     },
     "execution_count": 318,
     "metadata": {},
     "output_type": "execute_result"
    }
   ],
   "source": [
    "benimListeSetim"
   ]
  },
  {
   "cell_type": "code",
   "execution_count": 320,
   "id": "c44630a8-1f4b-4027-82e3-f99ae626fae4",
   "metadata": {},
   "outputs": [
    {
     "data": {
      "text/plain": [
       "set"
      ]
     },
     "execution_count": 320,
     "metadata": {},
     "output_type": "execute_result"
    }
   ],
   "source": [
    "benimSet = {\"a\",\"b\",\"c\",\"a\"}\n",
    "type(benimSet)"
   ]
  },
  {
   "cell_type": "code",
   "execution_count": 322,
   "id": "db2e1f0d-76c5-4e9b-9416-261e665c5871",
   "metadata": {},
   "outputs": [
    {
     "data": {
      "text/plain": [
       "{'a', 'b', 'c'}"
      ]
     },
     "execution_count": 322,
     "metadata": {},
     "output_type": "execute_result"
    }
   ],
   "source": [
    "benimSet"
   ]
  },
  {
   "cell_type": "code",
   "execution_count": 336,
   "id": "901a78c8-82aa-48a0-969d-9006245661cc",
   "metadata": {},
   "outputs": [
    {
     "data": {
      "text/plain": [
       "list"
      ]
     },
     "execution_count": 336,
     "metadata": {},
     "output_type": "execute_result"
    }
   ],
   "source": [
    "bosListe = []\n",
    "type(bosListe)"
   ]
  },
  {
   "cell_type": "code",
   "execution_count": 338,
   "id": "cd8e6bf6-a125-4e78-af60-f8294e434e63",
   "metadata": {},
   "outputs": [
    {
     "data": {
      "text/plain": [
       "[]"
      ]
     },
     "execution_count": 338,
     "metadata": {},
     "output_type": "execute_result"
    }
   ],
   "source": [
    "bosListe"
   ]
  },
  {
   "cell_type": "code",
   "execution_count": 340,
   "id": "222849a8-94a2-48b0-8e3b-05a56ffcfd94",
   "metadata": {},
   "outputs": [],
   "source": [
    "bosListe.append(1)"
   ]
  },
  {
   "cell_type": "code",
   "execution_count": 342,
   "id": "5db3133d-24ec-4901-9a04-9cb17c55b641",
   "metadata": {},
   "outputs": [
    {
     "data": {
      "text/plain": [
       "[1]"
      ]
     },
     "execution_count": 342,
     "metadata": {},
     "output_type": "execute_result"
    }
   ],
   "source": [
    "bosListe"
   ]
  },
  {
   "cell_type": "code",
   "execution_count": 344,
   "id": "759e8bb2-3b69-4b80-91cd-2c028662cc67",
   "metadata": {},
   "outputs": [
    {
     "data": {
      "text/plain": [
       "dict"
      ]
     },
     "execution_count": 344,
     "metadata": {},
     "output_type": "execute_result"
    }
   ],
   "source": [
    "bosSozluk = {}\n",
    "type(bosSozluk)"
   ]
  },
  {
   "cell_type": "code",
   "execution_count": 346,
   "id": "f3652712-7bcd-4b9e-99f7-36684291b49a",
   "metadata": {},
   "outputs": [
    {
     "data": {
      "text/plain": [
       "{'anahtarKelime': 10}"
      ]
     },
     "execution_count": 346,
     "metadata": {},
     "output_type": "execute_result"
    }
   ],
   "source": [
    "bosSozluk[\"anahtarKelime\"] = 10\n",
    "bosSozluk"
   ]
  },
  {
   "cell_type": "code",
   "execution_count": 348,
   "id": "504035f8-f5d8-45d9-94dd-0ee560a24d43",
   "metadata": {},
   "outputs": [
    {
     "data": {
      "text/plain": [
       "set()"
      ]
     },
     "execution_count": 348,
     "metadata": {},
     "output_type": "execute_result"
    }
   ],
   "source": [
    "benimBosSetim = set()\n",
    "benimBosSetim"
   ]
  },
  {
   "cell_type": "code",
   "execution_count": 350,
   "id": "43f8c5e6-9be9-45a5-8a6c-25b6c039967e",
   "metadata": {},
   "outputs": [],
   "source": [
    "benimBosSetim.add(10)"
   ]
  },
  {
   "cell_type": "code",
   "execution_count": 352,
   "id": "a233734b-20b4-4a90-ae54-365530748ad8",
   "metadata": {},
   "outputs": [],
   "source": [
    "benimBosSetim.add(10)"
   ]
  },
  {
   "cell_type": "code",
   "execution_count": 354,
   "id": "db0383e7-38e2-41c1-aeb3-7e65be793dfa",
   "metadata": {},
   "outputs": [],
   "source": [
    "benimBosSetim.add(20)"
   ]
  },
  {
   "cell_type": "code",
   "execution_count": 356,
   "id": "53c953d0-14bf-471c-b2e4-bc8111b257a1",
   "metadata": {},
   "outputs": [
    {
     "data": {
      "text/plain": [
       "{10, 20}"
      ]
     },
     "execution_count": 356,
     "metadata": {},
     "output_type": "execute_result"
    }
   ],
   "source": [
    "benimBosSetim"
   ]
  },
  {
   "cell_type": "code",
   "execution_count": 358,
   "id": "0a48ca19-4027-4b0a-bf3c-36c250a51b17",
   "metadata": {},
   "outputs": [
    {
     "data": {
      "text/plain": [
       "[]"
      ]
     },
     "execution_count": 358,
     "metadata": {},
     "output_type": "execute_result"
    }
   ],
   "source": [
    "benimBosListem = list()\n",
    "benimBosListem"
   ]
  },
  {
   "cell_type": "code",
   "execution_count": 360,
   "id": "bc595945-a286-4147-a2f0-378aed43ffd4",
   "metadata": {},
   "outputs": [
    {
     "data": {
      "text/plain": [
       "[10]"
      ]
     },
     "execution_count": 360,
     "metadata": {},
     "output_type": "execute_result"
    }
   ],
   "source": [
    "benimBosListem.append(10)\n",
    "benimBosListem"
   ]
  },
  {
   "cell_type": "code",
   "execution_count": 362,
   "id": "992054c1-4ca2-46db-a25a-71b0bacba9e5",
   "metadata": {},
   "outputs": [],
   "source": [
    "benimBosSozlugum = dict()"
   ]
  },
  {
   "cell_type": "code",
   "execution_count": 364,
   "id": "2ea9ab5a-340e-43de-bf48-a89c6acd05b4",
   "metadata": {},
   "outputs": [],
   "source": [
    "benimBosSozlugum[\"key\"] = 3234"
   ]
  },
  {
   "cell_type": "code",
   "execution_count": 366,
   "id": "67acfb96-5103-4fe1-9ed4-1fd321def8ed",
   "metadata": {},
   "outputs": [
    {
     "data": {
      "text/plain": [
       "{'key': 3234}"
      ]
     },
     "execution_count": 366,
     "metadata": {},
     "output_type": "execute_result"
    }
   ],
   "source": [
    "benimBosSozlugum"
   ]
  },
  {
   "cell_type": "markdown",
   "id": "d3f80b8a-f21f-43e3-92d4-07f18c81d847",
   "metadata": {},
   "source": [
    "## Hesap Makinesi"
   ]
  },
  {
   "cell_type": "code",
   "execution_count": null,
   "id": "80a878cd-2f39-40a4-b1f5-1395e505f021",
   "metadata": {},
   "outputs": [],
   "source": [
    "def hesapla(a,b,islem):\n",
    "    \n",
    "    if islem not in \"+-*/\":\n",
    "        return \"Lütfen şu işlemlerden birini seçiniz: +-*/\"\n",
    "    \n",
    "    if islem == \"+\":\n",
    "        return (str(a)+\" + \"+str(b) + \" = \" + str(a+b))\n",
    "    if islem == \"-\":\n",
    "        return (str(a)+\" - \"+str(b) + \" = \" + str(a-b))\n",
    "    if islem == \"*\":\n",
    "        return (str(a)+\" * \"+str(b) + \" = \" + str(a*b))\n",
    "    if islem == \"/\":\n",
    "        return (str(a)+\" / \"+str(b) + \" = \" + str(a/b))\n",
    "\n",
    "while false:\n",
    "    try:\n",
    "        a = int(input(\"İlk sayıyı giriniz: \"))\n",
    "        b = int(input(\"İkinci sayıyı giriniz: \"))\n",
    "        islem = input(\"İşleminizi seçiniz: +-*/\")\n",
    "        print(hesapla(a,b,islem))\n",
    "    except:\n",
    "        print(\"Lütfen sayıları düzgün giriniz\")\n",
    "    "
   ]
  },
  {
   "cell_type": "code",
   "execution_count": null,
   "id": "849883bf-0a79-4ac8-aa66-5bc09a915a0e",
   "metadata": {},
   "outputs": [],
   "source": [
    "## If - Boolean"
   ]
  },
  {
   "cell_type": "code",
   "execution_count": 3,
   "id": "00bfd568-53f7-4b3b-8063-1289b6a57429",
   "metadata": {},
   "outputs": [
    {
     "data": {
      "text/plain": [
       "True"
      ]
     },
     "execution_count": 3,
     "metadata": {},
     "output_type": "execute_result"
    }
   ],
   "source": [
    "benimBoolean = True\n",
    "benimBoolean"
   ]
  },
  {
   "cell_type": "code",
   "execution_count": 11,
   "id": "a8b733a5-c7ed-4706-b40d-c05c3a73ab34",
   "metadata": {},
   "outputs": [
    {
     "data": {
      "text/plain": [
       "bool"
      ]
     },
     "execution_count": 11,
     "metadata": {},
     "output_type": "execute_result"
    }
   ],
   "source": [
    "type(benimBoolean)"
   ]
  },
  {
   "cell_type": "code",
   "execution_count": 9,
   "id": "3cf1ef5d-bfb2-4488-bf4a-3c0062030409",
   "metadata": {},
   "outputs": [],
   "source": [
    "benimBoolean = False"
   ]
  },
  {
   "cell_type": "code",
   "execution_count": 13,
   "id": "ac6a4847-37a1-40cb-9da8-7b89e4cf62d7",
   "metadata": {},
   "outputs": [
    {
     "data": {
      "text/plain": [
       "True"
      ]
     },
     "execution_count": 13,
     "metadata": {},
     "output_type": "execute_result"
    }
   ],
   "source": [
    "10 > 5"
   ]
  },
  {
   "cell_type": "code",
   "execution_count": 15,
   "id": "98589de0-8f72-4a6a-a83f-9cadc653b24b",
   "metadata": {},
   "outputs": [
    {
     "data": {
      "text/plain": [
       "False"
      ]
     },
     "execution_count": 15,
     "metadata": {},
     "output_type": "execute_result"
    }
   ],
   "source": [
    "10 < 5"
   ]
  },
  {
   "cell_type": "code",
   "execution_count": 17,
   "id": "0581bb40-3e26-48e8-ae6f-a265e65ad708",
   "metadata": {},
   "outputs": [
    {
     "data": {
      "text/plain": [
       "6"
      ]
     },
     "execution_count": 17,
     "metadata": {},
     "output_type": "execute_result"
    }
   ],
   "source": [
    "listem = [5000,10000,3000,1000,2000,4000]\n",
    "len(listem)"
   ]
  },
  {
   "cell_type": "code",
   "execution_count": 19,
   "id": "b216d7f6-0049-4b96-a993-ca0063502338",
   "metadata": {},
   "outputs": [
    {
     "data": {
      "text/plain": [
       "25000"
      ]
     },
     "execution_count": 19,
     "metadata": {},
     "output_type": "execute_result"
    }
   ],
   "source": [
    "sum(listem)"
   ]
  },
  {
   "cell_type": "code",
   "execution_count": 23,
   "id": "21280f15-6a20-4c01-841d-a12edacf1e6e",
   "metadata": {},
   "outputs": [
    {
     "data": {
      "text/plain": [
       "4166.666666666667"
      ]
     },
     "execution_count": 23,
     "metadata": {},
     "output_type": "execute_result"
    }
   ],
   "source": [
    "ortalama = sum(listem) / len(listem)\n",
    "ortalama"
   ]
  },
  {
   "cell_type": "code",
   "execution_count": 25,
   "id": "30ff3db9-27a6-41e8-a8c0-1bd3c5cf3a41",
   "metadata": {},
   "outputs": [
    {
     "data": {
      "text/plain": [
       "False"
      ]
     },
     "execution_count": 25,
     "metadata": {},
     "output_type": "execute_result"
    }
   ],
   "source": [
    "listem[3] > ortalama"
   ]
  },
  {
   "cell_type": "code",
   "execution_count": 27,
   "id": "2958c3b8-dc4d-4b61-897c-0dd0751a020b",
   "metadata": {},
   "outputs": [
    {
     "name": "stdin",
     "output_type": "stream",
     "text": [
      "maaş bilgisini giriniz:  5000\n"
     ]
    }
   ],
   "source": [
    "kullaniciMaas = input(\"maaş bilgisini giriniz: \")"
   ]
  },
  {
   "cell_type": "code",
   "execution_count": 31,
   "id": "492b0b14-d53d-4e1f-9130-1aafe680b546",
   "metadata": {},
   "outputs": [
    {
     "data": {
      "text/plain": [
       "True"
      ]
     },
     "execution_count": 31,
     "metadata": {},
     "output_type": "execute_result"
    }
   ],
   "source": [
    "kullaniciMaasInt = int(kullaniciMaas)\n",
    "kullaniciMaasInt > ortalama"
   ]
  },
  {
   "cell_type": "code",
   "execution_count": 33,
   "id": "e4ec6dae-3620-4a83-a556-15484b960240",
   "metadata": {},
   "outputs": [
    {
     "data": {
      "text/plain": [
       "True"
      ]
     },
     "execution_count": 33,
     "metadata": {},
     "output_type": "execute_result"
    }
   ],
   "source": [
    "x = 10\n",
    "y = 8\n",
    "x > y"
   ]
  },
  {
   "cell_type": "code",
   "execution_count": 35,
   "id": "f43c3b0f-2021-4c28-9b8d-973bde0f0c7e",
   "metadata": {},
   "outputs": [
    {
     "data": {
      "text/plain": [
       "False"
      ]
     },
     "execution_count": 35,
     "metadata": {},
     "output_type": "execute_result"
    }
   ],
   "source": [
    "x < y"
   ]
  },
  {
   "cell_type": "code",
   "execution_count": 37,
   "id": "9d1e7a20-9099-43b3-b9cd-310591f9e19b",
   "metadata": {},
   "outputs": [
    {
     "data": {
      "text/plain": [
       "True"
      ]
     },
     "execution_count": 37,
     "metadata": {},
     "output_type": "execute_result"
    }
   ],
   "source": [
    "x >= y"
   ]
  },
  {
   "cell_type": "code",
   "execution_count": 39,
   "id": "1d9c40b6-673f-4440-8dc3-2b75e7829605",
   "metadata": {},
   "outputs": [
    {
     "data": {
      "text/plain": [
       "True"
      ]
     },
     "execution_count": 39,
     "metadata": {},
     "output_type": "execute_result"
    }
   ],
   "source": [
    "9 >= 9"
   ]
  },
  {
   "cell_type": "code",
   "execution_count": 41,
   "id": "3e9bb914-b817-4f1e-aaf3-dca7088a9e95",
   "metadata": {},
   "outputs": [
    {
     "data": {
      "text/plain": [
       "False"
      ]
     },
     "execution_count": 41,
     "metadata": {},
     "output_type": "execute_result"
    }
   ],
   "source": [
    "x <= y"
   ]
  },
  {
   "cell_type": "code",
   "execution_count": 43,
   "id": "7eb0c8c7-8c34-405b-b1ff-fc69122c8521",
   "metadata": {},
   "outputs": [],
   "source": [
    "x = y"
   ]
  },
  {
   "cell_type": "code",
   "execution_count": 45,
   "id": "a0242758-e6a0-4391-afb6-17299b6b128e",
   "metadata": {},
   "outputs": [
    {
     "data": {
      "text/plain": [
       "8"
      ]
     },
     "execution_count": 45,
     "metadata": {},
     "output_type": "execute_result"
    }
   ],
   "source": [
    "x"
   ]
  },
  {
   "cell_type": "code",
   "execution_count": 47,
   "id": "fcc962fb-d443-4c57-abad-b6a191297df3",
   "metadata": {},
   "outputs": [
    {
     "data": {
      "text/plain": [
       "8"
      ]
     },
     "execution_count": 47,
     "metadata": {},
     "output_type": "execute_result"
    }
   ],
   "source": [
    "y"
   ]
  },
  {
   "cell_type": "code",
   "execution_count": 49,
   "id": "a935662d-7fdb-4187-9956-335971eb4675",
   "metadata": {},
   "outputs": [],
   "source": [
    "x = 10"
   ]
  },
  {
   "cell_type": "code",
   "execution_count": 51,
   "id": "a3b1db6c-5d54-48e7-b93a-326bb019f10d",
   "metadata": {},
   "outputs": [
    {
     "data": {
      "text/plain": [
       "8"
      ]
     },
     "execution_count": 51,
     "metadata": {},
     "output_type": "execute_result"
    }
   ],
   "source": [
    "y"
   ]
  },
  {
   "cell_type": "code",
   "execution_count": 53,
   "id": "3087ab6c-864a-4bea-9399-915d3f211742",
   "metadata": {},
   "outputs": [
    {
     "data": {
      "text/plain": [
       "False"
      ]
     },
     "execution_count": 53,
     "metadata": {},
     "output_type": "execute_result"
    }
   ],
   "source": [
    "x == y"
   ]
  },
  {
   "cell_type": "code",
   "execution_count": 55,
   "id": "c8efdd5f-925c-4430-a285-cb1914fad60b",
   "metadata": {},
   "outputs": [
    {
     "data": {
      "text/plain": [
       "True"
      ]
     },
     "execution_count": 55,
     "metadata": {},
     "output_type": "execute_result"
    }
   ],
   "source": [
    "x != y"
   ]
  },
  {
   "cell_type": "code",
   "execution_count": 57,
   "id": "57024d02-ff22-4944-a426-8e9a7dcbd6b0",
   "metadata": {},
   "outputs": [
    {
     "data": {
      "text/plain": [
       "True"
      ]
     },
     "execution_count": 57,
     "metadata": {},
     "output_type": "execute_result"
    }
   ],
   "source": [
    "3 > 1 and 3 > 2"
   ]
  },
  {
   "cell_type": "code",
   "execution_count": 59,
   "id": "b3b2004d-c131-44a2-a36e-e082d02535e8",
   "metadata": {},
   "outputs": [
    {
     "data": {
      "text/plain": [
       "False"
      ]
     },
     "execution_count": 59,
     "metadata": {},
     "output_type": "execute_result"
    }
   ],
   "source": [
    "1 > 3 and 3 > 2"
   ]
  },
  {
   "cell_type": "code",
   "execution_count": 61,
   "id": "65a82c9b-c06c-4825-a8cb-18dfede92423",
   "metadata": {},
   "outputs": [
    {
     "data": {
      "text/plain": [
       "True"
      ]
     },
     "execution_count": 61,
     "metadata": {},
     "output_type": "execute_result"
    }
   ],
   "source": [
    "1 > 3 or 3 > 2"
   ]
  },
  {
   "cell_type": "code",
   "execution_count": 63,
   "id": "2fc34a41-7060-43ec-ad2f-a15bafe0b53f",
   "metadata": {},
   "outputs": [
    {
     "data": {
      "text/plain": [
       "False"
      ]
     },
     "execution_count": 63,
     "metadata": {},
     "output_type": "execute_result"
    }
   ],
   "source": [
    "not 5 == 5"
   ]
  },
  {
   "cell_type": "code",
   "execution_count": 65,
   "id": "ebfc3634-593f-4c20-8e2b-ff8d2b70b29c",
   "metadata": {},
   "outputs": [
    {
     "data": {
      "text/plain": [
       "True"
      ]
     },
     "execution_count": 65,
     "metadata": {},
     "output_type": "execute_result"
    }
   ],
   "source": [
    "5 == 5"
   ]
  },
  {
   "cell_type": "code",
   "execution_count": 67,
   "id": "20da4850-80f9-48e9-b23f-76556562976f",
   "metadata": {},
   "outputs": [
    {
     "data": {
      "text/plain": [
       "True"
      ]
     },
     "execution_count": 67,
     "metadata": {},
     "output_type": "execute_result"
    }
   ],
   "source": [
    "not 5 == 4"
   ]
  },
  {
   "cell_type": "code",
   "execution_count": 69,
   "id": "9eb3cdad-86d0-467b-8745-12c6a49c20a9",
   "metadata": {},
   "outputs": [
    {
     "name": "stdout",
     "output_type": "stream",
     "text": [
      "if koşulunun dışına çıktık\n"
     ]
    }
   ],
   "source": [
    "if 3 > 4:\n",
    "    print(\"atıl samancıoğlu\")\n",
    "    print(\"if koşulu sağlandı\")\n",
    "print(\"if koşulunun dışına çıktık\")"
   ]
  },
  {
   "cell_type": "code",
   "execution_count": 71,
   "id": "cc315366-f2d2-4410-97e0-273fcf60ab7d",
   "metadata": {},
   "outputs": [
    {
     "name": "stdout",
     "output_type": "stream",
     "text": [
      "y ve x birbirine eşitmiş\n"
     ]
    }
   ],
   "source": [
    "x = 4\n",
    "y = 4\n",
    "if x > y:\n",
    "    print(\"x, y'den daha büyükmüş\")\n",
    "elif y > x:\n",
    "    print(\"y, x'den daha büyükmüş\")\n",
    "else:\n",
    "    print(\"y ve x birbirine eşitmiş\")"
   ]
  },
  {
   "cell_type": "code",
   "execution_count": 73,
   "id": "2afb8b56-3d52-4cfc-9ce7-a7b67fd17484",
   "metadata": {},
   "outputs": [
    {
     "name": "stdin",
     "output_type": "stream",
     "text": [
      "Super kahraman seçiniz:  Aquaman\n"
     ]
    }
   ],
   "source": [
    "benimKahramanim = input(\"Super kahraman seçiniz: \")"
   ]
  },
  {
   "cell_type": "code",
   "execution_count": 75,
   "id": "0c05ba97-94a8-4fdb-a7a4-d0d4ef67f866",
   "metadata": {},
   "outputs": [
    {
     "name": "stdout",
     "output_type": "stream",
     "text": [
      "Bu kim gerçekten bilmiyoruz\n"
     ]
    }
   ],
   "source": [
    "if benimKahramanim == \"Batman\":\n",
    "    print(\"Batman'i seçtiniz tebrikler\")\n",
    "elif benimKahramanim == \"Superman\":\n",
    "    print(\"Keşke Batman'i seçseydiniz\")\n",
    "elif benimKahramanim == \"Ironman\":\n",
    "    print(\"Iron man kimdir?\")\n",
    "else:\n",
    "    print(\"Bu kim gerçekten bilmiyoruz\")"
   ]
  },
  {
   "cell_type": "code",
   "execution_count": 77,
   "id": "4d76687f-08ca-4f58-a5a8-4da47d576b79",
   "metadata": {},
   "outputs": [
    {
     "name": "stdout",
     "output_type": "stream",
     "text": [
      "bu koşullar tutmadı\n"
     ]
    }
   ],
   "source": [
    "a = 10\n",
    "b = 20 \n",
    "c = 20\n",
    "if a > b and b > c:\n",
    "    print(\"a, b'den büyük VE b de c'den büyük\")\n",
    "elif a < b and b < c:\n",
    "    print(\"a, b'den küçük VE b de c'den küçük\")\n",
    "else:\n",
    "    print(\"bu koşullar tutmadı\")"
   ]
  },
  {
   "cell_type": "code",
   "execution_count": 81,
   "id": "51bb777c-896e-4ffc-9f18-b2ef77a4b536",
   "metadata": {},
   "outputs": [
    {
     "name": "stdout",
     "output_type": "stream",
     "text": [
      "bu çalıştırılacak mı?\n"
     ]
    }
   ],
   "source": [
    "m = 10\n",
    "k = 4\n",
    "l = 5\n",
    "if m > k or k > l:\n",
    "    print(\"bu çalıştırılacak mı?\")"
   ]
  },
  {
   "cell_type": "code",
   "execution_count": 83,
   "id": "a4a18801-9ede-4e5b-8ede-19a81af7042c",
   "metadata": {},
   "outputs": [
    {
     "name": "stdout",
     "output_type": "stream",
     "text": [
      "oyun karakteriniz yaşamıyor\n"
     ]
    }
   ],
   "source": [
    "karakterCanli = False\n",
    "if karakterCanli == True:  \n",
    "    print(\"oyun karakteriniz yaşıyor\")\n",
    "else:\n",
    "    print(\"oyun karakteriniz yaşamıyor\")\n",
    "    \n",
    "##if karakterCanli:\n",
    "##    print(\"oyun karakteriniz yaşıyor\")\n",
    "##else:\n",
    "##    print(\"oyun karakteriniz yaşamıyor\")\n",
    "## if not karakterCanli:\n",
    "##    print(\"karakter canlı değil\")"
   ]
  },
  {
   "cell_type": "code",
   "execution_count": 85,
   "id": "655d17e4-e8c9-4283-afe9-00ff6eca47d5",
   "metadata": {},
   "outputs": [
    {
     "name": "stdout",
     "output_type": "stream",
     "text": [
      "eşit değilmiş\n"
     ]
    }
   ],
   "source": [
    "benimString = \"Atıl Samancıoğlu\"\n",
    "if benimString == \"atıl Samancıoğlu\":\n",
    "    print(\"eşitmiş\")\n",
    "else:\n",
    "    print(\"eşit değilmiş\")"
   ]
  },
  {
   "cell_type": "code",
   "execution_count": 87,
   "id": "f4ad9ace-5216-4159-acd4-ae61c0c30718",
   "metadata": {},
   "outputs": [
    {
     "name": "stdout",
     "output_type": "stream",
     "text": [
      "varmış\n"
     ]
    }
   ],
   "source": [
    "if \"Samancıoğlu\" in benimString:\n",
    "    print(\"varmış\")\n",
    "else:\n",
    "    print(\"yokmuş\")"
   ]
  },
  {
   "cell_type": "code",
   "execution_count": 91,
   "id": "ba824059-390c-484c-8073-e4a4faa5c30b",
   "metadata": {},
   "outputs": [],
   "source": [
    "benimListem = [10,20,30,40,50]\n",
    "if 60 in benimListem:\n",
    "    print(\"evet var\")"
   ]
  },
  {
   "cell_type": "code",
   "execution_count": 93,
   "id": "a0e5dbab-d521-41b7-a032-6515754e8c37",
   "metadata": {},
   "outputs": [],
   "source": [
    "benimSozluk = {\"muz\" : 100, \"elma\" : 150, \"karpuz\" : 500}"
   ]
  },
  {
   "cell_type": "code",
   "execution_count": 95,
   "id": "a7bb2192-358a-4803-bba2-66360da9101f",
   "metadata": {},
   "outputs": [
    {
     "name": "stdout",
     "output_type": "stream",
     "text": [
      "varmış\n"
     ]
    }
   ],
   "source": [
    "if \"muz\" in benimSozluk.keys():\n",
    "    print(\"varmış\")"
   ]
  },
  {
   "cell_type": "code",
   "execution_count": 97,
   "id": "b395a725-e85c-4720-bdf5-f7329d88d6a2",
   "metadata": {},
   "outputs": [
    {
     "name": "stdout",
     "output_type": "stream",
     "text": [
      "evet\n"
     ]
    }
   ],
   "source": [
    "if 500 in benimSozluk.values():\n",
    "    print(\"evet\")"
   ]
  },
  {
   "cell_type": "markdown",
   "id": "2c0ace09-6d99-40ee-8def-3d3a9be467cc",
   "metadata": {},
   "source": [
    "## Loops"
   ]
  },
  {
   "cell_type": "code",
   "execution_count": 100,
   "id": "3b1a5235-0530-49e7-9f7c-acbaf433ef80",
   "metadata": {},
   "outputs": [
    {
     "name": "stdout",
     "output_type": "stream",
     "text": [
      "evet içerisinde mevcut\n"
     ]
    }
   ],
   "source": [
    "benimListem = [10,20,30,40,50]\n",
    "if 10 in benimListem:\n",
    "    print(\"evet içerisinde mevcut\")"
   ]
  },
  {
   "cell_type": "code",
   "execution_count": 102,
   "id": "2621fc0d-8125-4321-b8c7-615e28469b1a",
   "metadata": {},
   "outputs": [
    {
     "data": {
      "text/plain": [
       "16.666666666666668"
      ]
     },
     "execution_count": 102,
     "metadata": {},
     "output_type": "execute_result"
    }
   ],
   "source": [
    "benimListem[0] * 5 / 3"
   ]
  },
  {
   "cell_type": "code",
   "execution_count": 104,
   "id": "30b632fc-72e8-4d79-9a19-70f419a71569",
   "metadata": {},
   "outputs": [
    {
     "data": {
      "text/plain": [
       "33.333333333333336"
      ]
     },
     "execution_count": 104,
     "metadata": {},
     "output_type": "execute_result"
    }
   ],
   "source": [
    "benimListem[1] * 5 / 3"
   ]
  },
  {
   "cell_type": "code",
   "execution_count": 106,
   "id": "eb2fc749-3dcb-45d4-a243-d5f68c3597fa",
   "metadata": {},
   "outputs": [
    {
     "name": "stdout",
     "output_type": "stream",
     "text": [
      "döngü başladı\n",
      "16.666666666666668\n",
      "33.333333333333336\n",
      "50.0\n",
      "66.66666666666667\n",
      "83.33333333333333\n",
      "döngü bitti\n"
     ]
    }
   ],
   "source": [
    "print(\"döngü başladı\")\n",
    "for numara in benimListem:\n",
    "    print(numara * 5 / 3)\n",
    "print(\"döngü bitti\")"
   ]
  },
  {
   "cell_type": "code",
   "execution_count": 108,
   "id": "1dcc9c21-5bcc-4ac1-8e04-6092ef04d23d",
   "metadata": {},
   "outputs": [
    {
     "name": "stdout",
     "output_type": "stream",
     "text": [
      "16.666666666666668\n",
      "33.333333333333336\n",
      "50.0\n",
      "66.66666666666667\n",
      "83.33333333333333\n"
     ]
    }
   ],
   "source": [
    "for num in benimListem:\n",
    "    yeniNumara = num * 5 / 3\n",
    "    print(yeniNumara)"
   ]
  },
  {
   "cell_type": "code",
   "execution_count": 110,
   "id": "715e976b-acc9-418d-baf9-b41d43cc5e45",
   "metadata": {},
   "outputs": [
    {
     "name": "stdout",
     "output_type": "stream",
     "text": [
      "2\n",
      "4\n",
      "6\n"
     ]
    }
   ],
   "source": [
    "yeniListe = [1,2,3,4,5,6]\n",
    "for rakam in yeniListe:\n",
    "    if rakam % 2 == 0:\n",
    "        print(rakam)"
   ]
  },
  {
   "cell_type": "code",
   "execution_count": 112,
   "id": "cb548a1d-203e-4725-81f1-cb2285863da4",
   "metadata": {},
   "outputs": [],
   "source": [
    "yeniString = \"Atıl Samancıoğlu\""
   ]
  },
  {
   "cell_type": "code",
   "execution_count": 114,
   "id": "e417389d-edff-47c1-8546-ccace7bd9a36",
   "metadata": {},
   "outputs": [
    {
     "name": "stdout",
     "output_type": "stream",
     "text": [
      "A\n",
      "t\n",
      "ı\n",
      "l\n",
      " \n",
      "S\n",
      "a\n",
      "m\n",
      "a\n",
      "n\n",
      "c\n",
      "ı\n",
      "o\n",
      "ğ\n",
      "l\n",
      "u\n"
     ]
    }
   ],
   "source": [
    "for harf in yeniString:\n",
    "    print(harf)"
   ]
  },
  {
   "cell_type": "code",
   "execution_count": 118,
   "id": "96f38b8f-f791-4af2-b555-c4b6bbc3d66a",
   "metadata": {},
   "outputs": [
    {
     "name": "stdout",
     "output_type": "stream",
     "text": [
      "-9\n",
      "-8\n",
      "-7\n",
      "-6\n",
      "-5\n"
     ]
    }
   ],
   "source": [
    "benimTuple = (1,2,3,4,5)\n",
    "for eleman in benimTuple:\n",
    "    print(eleman - 10)"
   ]
  },
  {
   "cell_type": "code",
   "execution_count": 120,
   "id": "37444f44-2dab-4cf8-919c-da4fa3b8fe3d",
   "metadata": {},
   "outputs": [
    {
     "data": {
      "text/plain": [
       "tuple"
      ]
     },
     "execution_count": 120,
     "metadata": {},
     "output_type": "execute_result"
    }
   ],
   "source": [
    "koordinatListesi = [(10.2,15.2),(32.4,16.2),(40.2,20.2)]\n",
    "type(koordinatListesi[0])"
   ]
  },
  {
   "cell_type": "code",
   "execution_count": 122,
   "id": "ea872a82-f2b3-44f3-ad6a-c32fa6af8235",
   "metadata": {},
   "outputs": [
    {
     "name": "stdout",
     "output_type": "stream",
     "text": [
      "(10.2, 15.2)\n",
      "(32.4, 16.2)\n",
      "(40.2, 20.2)\n"
     ]
    }
   ],
   "source": [
    "for eleman in koordinatListesi:\n",
    "    print(eleman)"
   ]
  },
  {
   "cell_type": "code",
   "execution_count": 124,
   "id": "0772b6a8-d817-4f4c-b190-30cca0979c8e",
   "metadata": {},
   "outputs": [
    {
     "name": "stdout",
     "output_type": "stream",
     "text": [
      "15.2\n",
      "16.2\n",
      "20.2\n"
     ]
    }
   ],
   "source": [
    "for (x,y) in koordinatListesi:\n",
    "    print(y)"
   ]
  },
  {
   "cell_type": "code",
   "execution_count": 126,
   "id": "483771ca-3d9d-4862-8a03-79dd3748504f",
   "metadata": {},
   "outputs": [
    {
     "name": "stdout",
     "output_type": "stream",
     "text": [
      "3\n",
      "6\n",
      "9\n"
     ]
    }
   ],
   "source": [
    "benimGaripListem = [(1,2,3),(4,5,6),(7,8,9)]\n",
    "for (x, y, z) in benimGaripListem:\n",
    "    print(z)"
   ]
  },
  {
   "cell_type": "code",
   "execution_count": 128,
   "id": "aad4fe0a-eab9-4888-b3fa-af328432d083",
   "metadata": {},
   "outputs": [
    {
     "name": "stdout",
     "output_type": "stream",
     "text": [
      "150\n",
      "250\n",
      "400\n"
     ]
    }
   ],
   "source": [
    "benimSozluk = {\"muz\": 150, \"portakal\" : 250, \"elma\" : 400}\n",
    "for (anahtar,deger) in benimSozluk.items():\n",
    "    print(deger)"
   ]
  },
  {
   "cell_type": "code",
   "execution_count": 130,
   "id": "b6502a47-9f9b-4dd6-8575-148f5d09e674",
   "metadata": {},
   "outputs": [
    {
     "name": "stdout",
     "output_type": "stream",
     "text": [
      "1.0\n",
      "2.0\n",
      "3.0\n",
      "4.0\n",
      "5.0\n",
      "6.0\n"
     ]
    }
   ],
   "source": [
    "benimListem = [5,10,15,20,25,30]\n",
    "for numara in benimListem:\n",
    "    print(numara / 5)"
   ]
  },
  {
   "cell_type": "code",
   "execution_count": 132,
   "id": "7b54f1b3-b28b-4bf6-be37-20a6c8e17b0a",
   "metadata": {},
   "outputs": [
    {
     "name": "stdout",
     "output_type": "stream",
     "text": [
      "5\n",
      "10\n"
     ]
    }
   ],
   "source": [
    "for numara in benimListem:\n",
    "    if numara == 15:\n",
    "        break\n",
    "    print(numara)"
   ]
  },
  {
   "cell_type": "code",
   "execution_count": 134,
   "id": "47720c65-ae00-4f9e-a320-bcc16acf5816",
   "metadata": {},
   "outputs": [
    {
     "name": "stdout",
     "output_type": "stream",
     "text": [
      "5\n",
      "10\n",
      "20\n",
      "25\n",
      "30\n"
     ]
    }
   ],
   "source": [
    "for numara in benimListem:\n",
    "    if numara == 15:\n",
    "        continue\n",
    "    print(numara)"
   ]
  },
  {
   "cell_type": "code",
   "execution_count": 136,
   "id": "f707cee5-ef8f-4ca2-8030-18ec29f0c017",
   "metadata": {},
   "outputs": [],
   "source": [
    "for numara in benimListem:\n",
    "    pass"
   ]
  },
  {
   "cell_type": "code",
   "execution_count": 138,
   "id": "0962130b-f62e-49e7-ba52-6647e2a43ef3",
   "metadata": {},
   "outputs": [
    {
     "name": "stdout",
     "output_type": "stream",
     "text": [
      "0\n",
      "1\n",
      "2\n",
      "3\n",
      "4\n",
      "5\n",
      "6\n",
      "7\n",
      "8\n",
      "9\n"
     ]
    }
   ],
   "source": [
    "x = 0\n",
    "while x < 10:\n",
    "    print(x)\n",
    "    x = x + 1"
   ]
  },
  {
   "cell_type": "code",
   "execution_count": 140,
   "id": "26b521fc-b520-4b4e-9f6b-8ac3ba22d0a9",
   "metadata": {},
   "outputs": [
    {
     "data": {
      "text/plain": [
       "5"
      ]
     },
     "execution_count": 140,
     "metadata": {},
     "output_type": "execute_result"
    }
   ],
   "source": [
    "benimListem = [1,2,3,4,5]\n",
    "benimListem.pop()"
   ]
  },
  {
   "cell_type": "code",
   "execution_count": 142,
   "id": "d4f6795c-2b52-48d2-9ce8-8b31aad23682",
   "metadata": {},
   "outputs": [
    {
     "data": {
      "text/plain": [
       "[1, 2, 3, 4]"
      ]
     },
     "execution_count": 142,
     "metadata": {},
     "output_type": "execute_result"
    }
   ],
   "source": [
    "benimListem"
   ]
  },
  {
   "cell_type": "code",
   "execution_count": 144,
   "id": "7a1f8b14-130b-4e3a-9746-eab5af5828bf",
   "metadata": {},
   "outputs": [],
   "source": [
    "benimListem.append(5)"
   ]
  },
  {
   "cell_type": "code",
   "execution_count": 146,
   "id": "d9dc68c3-f994-406c-8cdf-37675e01c5ce",
   "metadata": {},
   "outputs": [
    {
     "data": {
      "text/plain": [
       "[1, 2, 3, 4, 5]"
      ]
     },
     "execution_count": 146,
     "metadata": {},
     "output_type": "execute_result"
    }
   ],
   "source": [
    "benimListem"
   ]
  },
  {
   "cell_type": "code",
   "execution_count": 148,
   "id": "6e6cc596-2175-40fb-95d1-f9ad8d0c892c",
   "metadata": {},
   "outputs": [
    {
     "name": "stdout",
     "output_type": "stream",
     "text": [
      "3 hala listenin içerisinde\n",
      "3 hala listenin içerisinde\n",
      "3 hala listenin içerisinde\n"
     ]
    }
   ],
   "source": [
    "while 3 in benimListem:\n",
    "    print(\"3 hala listenin içerisinde\")\n",
    "    benimListem.pop()"
   ]
  },
  {
   "cell_type": "code",
   "execution_count": 152,
   "id": "de13ff2d-9bf0-41e0-b5d2-6abfddf0d7ca",
   "metadata": {},
   "outputs": [
    {
     "name": "stdout",
     "output_type": "stream",
     "text": [
      "0\n",
      "1\n",
      "2\n",
      "3\n"
     ]
    }
   ],
   "source": [
    "numara = 0\n",
    "while numara < 5:\n",
    "    if numara == 4:\n",
    "        break\n",
    "    print(numara)\n",
    "    numara = numara + 1"
   ]
  },
  {
   "cell_type": "code",
   "execution_count": 154,
   "id": "72580d02-bd00-47ff-a932-2ff6f5168a47",
   "metadata": {},
   "outputs": [
    {
     "name": "stdout",
     "output_type": "stream",
     "text": [
      "yeniDegisken'in güncel değeri: 0\n",
      "yeniDegisken'in güncel değeri: 1\n",
      "yeniDegisken'in güncel değeri: 2\n",
      "yeniDegisken'in güncel değeri: 3\n",
      "yeniDegisken'in güncel değeri: 4\n",
      "yeniDegisken'in güncel değeri: 5\n",
      "yeniDegisken'in güncel değeri: 6\n",
      "yeniDegisken'in güncel değeri: 7\n",
      "yeniDegisken'in güncel değeri: 8\n",
      "yeniDegisken'in güncel değeri: 9\n",
      "yeniDegisken'in güncel değeri: 10\n",
      "yeniDegisken'in güncel değeri: 11\n",
      "yeniDegisken'in güncel değeri: 12\n",
      "yeniDegisken'in güncel değeri: 13\n",
      "yeniDegisken'in güncel değeri: 14\n"
     ]
    }
   ],
   "source": [
    "yeniDegisken = 0\n",
    "while yeniDegisken < 15:\n",
    "    #print(\"yeniDegisken'in güncel değeri: \" + str(yeniDegisken))\n",
    "    print(f\"yeniDegisken'in güncel değeri: {yeniDegisken}\")\n",
    "    yeniDegisken = yeniDegisken + 1"
   ]
  },
  {
   "cell_type": "markdown",
   "id": "aea5b433-c067-4438-9b88-2d5b7d80c4ec",
   "metadata": {},
   "source": [
    "## Faydalı Methodlar ve Kapsam"
   ]
  },
  {
   "cell_type": "code",
   "execution_count": 159,
   "id": "e9408255-ab87-4346-ac45-5ad8475f0ef5",
   "metadata": {},
   "outputs": [
    {
     "name": "stdout",
     "output_type": "stream",
     "text": [
      "0\n",
      "1\n",
      "2\n",
      "3\n",
      "4\n",
      "5\n",
      "6\n"
     ]
    }
   ],
   "source": [
    "benimListem = [0,1,2,3,4,5,6]\n",
    "for numara in benimListem:\n",
    "    print(numara)"
   ]
  },
  {
   "cell_type": "code",
   "execution_count": 161,
   "id": "5147f220-c902-4b7f-856f-c9e097b32ca8",
   "metadata": {},
   "outputs": [
    {
     "data": {
      "text/plain": [
       "range(0, 15)"
      ]
     },
     "execution_count": 161,
     "metadata": {},
     "output_type": "execute_result"
    }
   ],
   "source": [
    "range(15)"
   ]
  },
  {
   "cell_type": "code",
   "execution_count": 163,
   "id": "0bacb904-2bfb-4765-bff4-677e6fac091a",
   "metadata": {},
   "outputs": [
    {
     "data": {
      "text/plain": [
       "[0, 1, 2, 3, 4, 5, 6, 7, 8, 9, 10, 11, 12, 13, 14, 15, 16, 17, 18, 19]"
      ]
     },
     "execution_count": 163,
     "metadata": {},
     "output_type": "execute_result"
    }
   ],
   "source": [
    "list(range(20))"
   ]
  },
  {
   "cell_type": "code",
   "execution_count": 165,
   "id": "0cd379cf-95af-4b32-b792-3978a4df0cef",
   "metadata": {},
   "outputs": [
    {
     "name": "stdout",
     "output_type": "stream",
     "text": [
      "0\n",
      "5\n",
      "10\n",
      "15\n",
      "20\n",
      "25\n",
      "30\n",
      "35\n",
      "40\n",
      "45\n",
      "50\n",
      "55\n",
      "60\n",
      "65\n",
      "70\n"
     ]
    }
   ],
   "source": [
    "for numara in list(range(15)):\n",
    "    print(numara * 5)"
   ]
  },
  {
   "cell_type": "code",
   "execution_count": 167,
   "id": "a1697538-bb16-4056-a363-acc983b8e102",
   "metadata": {},
   "outputs": [
    {
     "data": {
      "text/plain": [
       "[5, 9, 13, 17, 21]"
      ]
     },
     "execution_count": 167,
     "metadata": {},
     "output_type": "execute_result"
    }
   ],
   "source": [
    "list(range(5,22,4))"
   ]
  },
  {
   "cell_type": "code",
   "execution_count": 169,
   "id": "9325767a-bfe2-4692-9cbe-5b047cad9e0e",
   "metadata": {},
   "outputs": [
    {
     "name": "stdout",
     "output_type": "stream",
     "text": [
      "güncel numara: 5 güncel index: 0\n",
      "güncel numara: 6 güncel index: 1\n",
      "güncel numara: 7 güncel index: 2\n",
      "güncel numara: 8 güncel index: 3\n",
      "güncel numara: 9 güncel index: 4\n",
      "güncel numara: 10 güncel index: 5\n",
      "güncel numara: 11 güncel index: 6\n",
      "güncel numara: 12 güncel index: 7\n",
      "güncel numara: 13 güncel index: 8\n",
      "güncel numara: 14 güncel index: 9\n"
     ]
    }
   ],
   "source": [
    "index = 0\n",
    "for numara in list(range(5,15)):\n",
    "    print(f\"güncel numara: {numara} güncel index: {index}\")\n",
    "    index = index + 1"
   ]
  },
  {
   "cell_type": "code",
   "execution_count": 171,
   "id": "bb39708d-899c-4c64-9246-ec76e3024192",
   "metadata": {},
   "outputs": [
    {
     "name": "stdout",
     "output_type": "stream",
     "text": [
      "(0, 5)\n",
      "(1, 6)\n",
      "(2, 7)\n",
      "(3, 8)\n",
      "(4, 9)\n",
      "(5, 10)\n",
      "(6, 11)\n",
      "(7, 12)\n",
      "(8, 13)\n",
      "(9, 14)\n"
     ]
    }
   ],
   "source": [
    "for eleman in enumerate(list(range(5,15))):\n",
    "    print(eleman)"
   ]
  },
  {
   "cell_type": "code",
   "execution_count": 173,
   "id": "808695da-c048-4345-b529-3052a15c60a8",
   "metadata": {},
   "outputs": [
    {
     "name": "stdout",
     "output_type": "stream",
     "text": [
      "5\n",
      "6\n",
      "7\n",
      "8\n",
      "9\n",
      "10\n",
      "11\n",
      "12\n",
      "13\n",
      "14\n"
     ]
    }
   ],
   "source": [
    "for (index,numara) in enumerate(list(range(5,15))):\n",
    "    print(numara)"
   ]
  },
  {
   "cell_type": "code",
   "execution_count": 175,
   "id": "71e3b8d1-b139-47d7-b59e-691feef7461b",
   "metadata": {},
   "outputs": [
    {
     "data": {
      "text/plain": [
       "30"
      ]
     },
     "execution_count": 175,
     "metadata": {},
     "output_type": "execute_result"
    }
   ],
   "source": [
    "from random import randint\n",
    "randint(0,100)"
   ]
  },
  {
   "cell_type": "code",
   "execution_count": 177,
   "id": "be5659fd-a0d6-4442-8814-f534fbf750e4",
   "metadata": {},
   "outputs": [
    {
     "data": {
      "text/plain": [
       "30"
      ]
     },
     "execution_count": 177,
     "metadata": {},
     "output_type": "execute_result"
    }
   ],
   "source": [
    "randint(0,100)"
   ]
  },
  {
   "cell_type": "code",
   "execution_count": 179,
   "id": "220c58e8-81bf-410b-8ac0-9955f8c3c952",
   "metadata": {},
   "outputs": [
    {
     "data": {
      "text/plain": [
       "82"
      ]
     },
     "execution_count": 179,
     "metadata": {},
     "output_type": "execute_result"
    }
   ],
   "source": [
    "randint(0,100)"
   ]
  },
  {
   "cell_type": "code",
   "execution_count": 181,
   "id": "c81684f8-acfd-45b6-a803-21b61903decc",
   "metadata": {},
   "outputs": [
    {
     "data": {
      "text/plain": [
       "[0, 1, 2, 3, 4, 5, 6, 7, 8, 9]"
      ]
     },
     "execution_count": 181,
     "metadata": {},
     "output_type": "execute_result"
    }
   ],
   "source": [
    "yeniListe = list(range(0,10))\n",
    "yeniListe"
   ]
  },
  {
   "cell_type": "code",
   "execution_count": 183,
   "id": "d2987a55-1537-4c1d-84c7-60f971317a13",
   "metadata": {},
   "outputs": [
    {
     "data": {
      "text/plain": [
       "[1, 0, 6, 7, 8, 9, 2, 4, 5, 3]"
      ]
     },
     "execution_count": 183,
     "metadata": {},
     "output_type": "execute_result"
    }
   ],
   "source": [
    "from random import shuffle\n",
    "shuffle(yeniListe)\n",
    "yeniListe"
   ]
  },
  {
   "cell_type": "code",
   "execution_count": 185,
   "id": "bc37b08a-5992-4ae0-99f0-1ab90cb429db",
   "metadata": {},
   "outputs": [
    {
     "name": "stdout",
     "output_type": "stream",
     "text": [
      "<class 'tuple'>\n",
      "<class 'tuple'>\n",
      "<class 'tuple'>\n"
     ]
    }
   ],
   "source": [
    "yemekListesi = [\"muz\",\"ananas\",\"elma\"]\n",
    "kaloriListesi = [100,200,300]\n",
    "gunListesi = [\"pazartesi\",\"salı\",\"çarşamba\"]\n",
    "ziplenmisListe = list(zip(yemekListesi,kaloriListesi,gunListesi))\n",
    "for eleman in ziplenmisListe:\n",
    "    print(type(eleman))"
   ]
  },
  {
   "cell_type": "code",
   "execution_count": 187,
   "id": "9b04cbb1-9883-4ed0-b993-fab3d0f5de3a",
   "metadata": {},
   "outputs": [
    {
     "data": {
      "text/plain": [
       "[('muz', 100, 'pazartesi'), ('ananas', 200, 'salı'), ('elma', 300, 'çarşamba')]"
      ]
     },
     "execution_count": 187,
     "metadata": {},
     "output_type": "execute_result"
    }
   ],
   "source": [
    "ziplenmisListe"
   ]
  },
  {
   "cell_type": "code",
   "execution_count": 189,
   "id": "48f9ba75-6d4a-4ffb-8a31-5f1d4154c023",
   "metadata": {},
   "outputs": [],
   "source": [
    "listeOrnegi = []\n",
    "benimString = \"atıl samancıoğlu\"\n",
    "\n",
    "for harf in benimString:\n",
    "    listeOrnegi.append(harf)"
   ]
  },
  {
   "cell_type": "code",
   "execution_count": 191,
   "id": "4b4e5959-8866-4c83-8ff0-3c2f3da8c379",
   "metadata": {},
   "outputs": [],
   "source": [
    "yeniString = \"atıl samancıoğlu\""
   ]
  },
  {
   "cell_type": "code",
   "execution_count": 195,
   "id": "cbcc0b0f-f85c-4b18-ace5-f73f1798f015",
   "metadata": {},
   "outputs": [
    {
     "data": {
      "text/plain": [
       "['a',\n",
       " 't',\n",
       " 'ı',\n",
       " 'l',\n",
       " ' ',\n",
       " 's',\n",
       " 'a',\n",
       " 'm',\n",
       " 'a',\n",
       " 'n',\n",
       " 'c',\n",
       " 'ı',\n",
       " 'o',\n",
       " 'ğ',\n",
       " 'l',\n",
       " 'u']"
      ]
     },
     "execution_count": 195,
     "metadata": {},
     "output_type": "execute_result"
    }
   ],
   "source": [
    "yeniListeOrnegi = [eleman for eleman in yeniString]\n",
    "yeniListeOrnegi\n"
   ]
  },
  {
   "cell_type": "code",
   "execution_count": 197,
   "id": "d48ea221-ddfa-49e5-a062-2a9d9ed00f4e",
   "metadata": {},
   "outputs": [
    {
     "data": {
      "text/plain": [
       "[0, 1, 32, 243, 1024, 3125, 7776, 16807, 32768, 59049]"
      ]
     },
     "execution_count": 197,
     "metadata": {},
     "output_type": "execute_result"
    }
   ],
   "source": [
    "ikinciListeOrnegi = [numara ** 5 for numara in list(range(0,10))]\n",
    "ikinciListeOrnegi"
   ]
  },
  {
   "cell_type": "code",
   "execution_count": 199,
   "id": "ba5d24e2-a9c4-4c77-9658-68de7f06e205",
   "metadata": {},
   "outputs": [
    {
     "data": {
      "text/plain": [
       "10.0"
      ]
     },
     "execution_count": 199,
     "metadata": {},
     "output_type": "execute_result"
    }
   ],
   "source": [
    "def bolmeIslemi(numara):\n",
    "    return numara / 2\n",
    "bolmeIslemi(20)"
   ]
  },
  {
   "cell_type": "code",
   "execution_count": 201,
   "id": "f12a3035-aa60-4081-b09c-b7f37dc6f7a9",
   "metadata": {},
   "outputs": [],
   "source": [
    "benimListem = [1,2,3,4,5,6,7,8,9,10]"
   ]
  },
  {
   "cell_type": "code",
   "execution_count": 203,
   "id": "c3bdac83-0988-44bf-9be4-a8db43bb8f6d",
   "metadata": {},
   "outputs": [
    {
     "data": {
      "text/plain": [
       "[0.5, 1.0, 1.5, 2.0, 2.5, 3.0, 3.5, 4.0, 4.5, 5.0]"
      ]
     },
     "execution_count": 203,
     "metadata": {},
     "output_type": "execute_result"
    }
   ],
   "source": [
    "yeniListe = []\n",
    "for eleman in benimListem:\n",
    "    yeniListe.append(bolmeIslemi(eleman))\n",
    "yeniListe"
   ]
  },
  {
   "cell_type": "code",
   "execution_count": 205,
   "id": "31ebaa86-cfb7-46be-be9b-a0d4f16ded92",
   "metadata": {},
   "outputs": [
    {
     "data": {
      "text/plain": [
       "[0.5, 1.0, 1.5, 2.0, 2.5, 3.0, 3.5, 4.0, 4.5, 5.0]"
      ]
     },
     "execution_count": 205,
     "metadata": {},
     "output_type": "execute_result"
    }
   ],
   "source": [
    "list(map(bolmeIslemi,benimListem))"
   ]
  },
  {
   "cell_type": "code",
   "execution_count": 207,
   "id": "5be82f90-fae9-431a-a2f3-f220a039de80",
   "metadata": {},
   "outputs": [
    {
     "data": {
      "text/plain": [
       "True"
      ]
     },
     "execution_count": 207,
     "metadata": {},
     "output_type": "execute_result"
    }
   ],
   "source": [
    "def kontrolFonksiyonu(string):\n",
    "    return \"a\" in string\n",
    "kontrolFonksiyonu(\"atıl\")"
   ]
  },
  {
   "cell_type": "code",
   "execution_count": 209,
   "id": "4fc1f92e-cb88-491b-91d4-1992c4fdf4e5",
   "metadata": {},
   "outputs": [
    {
     "data": {
      "text/plain": [
       "False"
      ]
     },
     "execution_count": 209,
     "metadata": {},
     "output_type": "execute_result"
    }
   ],
   "source": [
    "kontrolFonksiyonu(\"zeynep\")"
   ]
  },
  {
   "cell_type": "code",
   "execution_count": 211,
   "id": "61445371-575d-48d1-aa0e-9aeed9076b61",
   "metadata": {},
   "outputs": [
    {
     "data": {
      "text/plain": [
       "3"
      ]
     },
     "execution_count": 211,
     "metadata": {},
     "output_type": "execute_result"
    }
   ],
   "source": [
    "stringListesi = [\"atıl\",\"samancıoğlu\",\"atlas\",\"zeynep\",\"mehmet\",\"ahmet\",\"levent\"]\n",
    "sonucListesi = list(map(kontrolFonksiyonu,stringListesi))\n",
    "sonucListesi.count(False)"
   ]
  },
  {
   "cell_type": "code",
   "execution_count": 213,
   "id": "7b237c2f-9fbd-4372-b798-04d021ef205a",
   "metadata": {},
   "outputs": [
    {
     "data": {
      "text/plain": [
       "['atıl', 'samancıoğlu', 'atlas', 'ahmet']"
      ]
     },
     "execution_count": 213,
     "metadata": {},
     "output_type": "execute_result"
    }
   ],
   "source": [
    "list(filter(kontrolFonksiyonu,stringListesi))"
   ]
  },
  {
   "cell_type": "code",
   "execution_count": 215,
   "id": "eeabb70d-2b4f-49d6-9a1f-3931a3914471",
   "metadata": {},
   "outputs": [],
   "source": [
    "carpma = lambda numara : numara * 3"
   ]
  },
  {
   "cell_type": "code",
   "execution_count": 217,
   "id": "cbc32124-ed53-4492-8490-793b742ff9f2",
   "metadata": {},
   "outputs": [
    {
     "data": {
      "text/plain": [
       "30"
      ]
     },
     "execution_count": 217,
     "metadata": {},
     "output_type": "execute_result"
    }
   ],
   "source": [
    "carpma(10)"
   ]
  },
  {
   "cell_type": "code",
   "execution_count": 219,
   "id": "d71ff5e1-91d7-4fcf-bb00-ffffaca0584a",
   "metadata": {},
   "outputs": [
    {
     "data": {
      "text/plain": [
       "[40, 80, 120]"
      ]
     },
     "execution_count": 219,
     "metadata": {},
     "output_type": "execute_result"
    }
   ],
   "source": [
    "ornekListesi = [10,20,30]\n",
    "list(map(lambda numara : numara * 4,ornekListesi))"
   ]
  },
  {
   "cell_type": "code",
   "execution_count": 221,
   "id": "9a686645-1f31-4b3b-a3b2-eddd55c04f0e",
   "metadata": {},
   "outputs": [],
   "source": [
    "numara = 20\n",
    "\n",
    "def carpma(rakam):\n",
    "    numara = 10\n",
    "    return numara * rakam"
   ]
  },
  {
   "cell_type": "code",
   "execution_count": 223,
   "id": "33d6e0d6-c689-4e2d-aba7-d80fc6aa8a1e",
   "metadata": {},
   "outputs": [
    {
     "data": {
      "text/plain": [
       "50"
      ]
     },
     "execution_count": 223,
     "metadata": {},
     "output_type": "execute_result"
    }
   ],
   "source": [
    "carpma(5)"
   ]
  },
  {
   "cell_type": "code",
   "execution_count": 225,
   "id": "652d00e4-91bc-49b5-8122-35ec362a5f8b",
   "metadata": {},
   "outputs": [
    {
     "name": "stdout",
     "output_type": "stream",
     "text": [
      "20\n"
     ]
    }
   ],
   "source": [
    "print(numara)"
   ]
  },
  {
   "cell_type": "code",
   "execution_count": 227,
   "id": "1b8b97d2-a8e2-4a28-8e33-e4510b90e812",
   "metadata": {},
   "outputs": [],
   "source": [
    "x = 20\n",
    "x = 10"
   ]
  },
  {
   "cell_type": "code",
   "execution_count": 229,
   "id": "0a706033-7888-46b7-ab1d-14836bb00a30",
   "metadata": {},
   "outputs": [
    {
     "data": {
      "text/plain": [
       "10"
      ]
     },
     "execution_count": 229,
     "metadata": {},
     "output_type": "execute_result"
    }
   ],
   "source": [
    "x"
   ]
  },
  {
   "cell_type": "code",
   "execution_count": 231,
   "id": "4c3d3186-33fb-493d-aa4d-ee9f51f3f11b",
   "metadata": {},
   "outputs": [
    {
     "name": "stdout",
     "output_type": "stream",
     "text": [
      "Ayşe\n"
     ]
    }
   ],
   "source": [
    "benimAdim = \"Atıl\"\n",
    "#Global\n",
    "\n",
    "def benimFonksiyonum():\n",
    "    benimAdim = \"Mahmut\"\n",
    "    #Enclosing\n",
    "    def icFonksiyon():\n",
    "        benimAdim = \"Ayşe\"\n",
    "        #Local\n",
    "        print(benimAdim)\n",
    "    icFonksiyon()\n",
    "benimFonksiyonum()"
   ]
  },
  {
   "cell_type": "code",
   "execution_count": 233,
   "id": "9eb983da-12b6-4452-a0be-c36a7e9c6e3d",
   "metadata": {},
   "outputs": [
    {
     "name": "stdout",
     "output_type": "stream",
     "text": [
      "Atıl\n"
     ]
    }
   ],
   "source": [
    "print(benimAdim)"
   ]
  },
  {
   "cell_type": "code",
   "execution_count": 235,
   "id": "4c70b32c-6bd1-4613-bfc8-1fa93810433c",
   "metadata": {},
   "outputs": [
    {
     "name": "stdout",
     "output_type": "stream",
     "text": [
      "3\n",
      "5\n"
     ]
    },
    {
     "data": {
      "text/plain": [
       "5"
      ]
     },
     "execution_count": 235,
     "metadata": {},
     "output_type": "execute_result"
    }
   ],
   "source": [
    "y = 10\n",
    "\n",
    "def yeniFonksiyon(y):\n",
    "    print(y)\n",
    "    y = 5\n",
    "    print(y)\n",
    "    return y\n",
    "yeniFonksiyon(3)"
   ]
  },
  {
   "cell_type": "code",
   "execution_count": 237,
   "id": "deceb9d5-0ce4-476a-ae76-4676cf2dc491",
   "metadata": {},
   "outputs": [
    {
     "name": "stdout",
     "output_type": "stream",
     "text": [
      "3\n",
      "5\n"
     ]
    }
   ],
   "source": [
    "y = yeniFonksiyon(3)"
   ]
  },
  {
   "cell_type": "code",
   "execution_count": 239,
   "id": "eb1f5d7f-a031-4eda-9f17-ca6be84ba86b",
   "metadata": {},
   "outputs": [
    {
     "data": {
      "text/plain": [
       "5"
      ]
     },
     "execution_count": 239,
     "metadata": {},
     "output_type": "execute_result"
    }
   ],
   "source": [
    "y"
   ]
  },
  {
   "cell_type": "code",
   "execution_count": 243,
   "id": "3e3e7ea7-a926-4dfa-879d-9520e442a86d",
   "metadata": {},
   "outputs": [
    {
     "name": "stdout",
     "output_type": "stream",
     "text": [
      "5\n"
     ]
    }
   ],
   "source": [
    "y = 10\n",
    "\n",
    "def ornekFonksiyon():\n",
    "    global y\n",
    "    y = 5\n",
    "    print(y)\n",
    "ornekFonksiyon()"
   ]
  },
  {
   "cell_type": "code",
   "execution_count": 245,
   "id": "c495173e-7bd5-46c3-aeb0-b508f45f9185",
   "metadata": {},
   "outputs": [
    {
     "data": {
      "text/plain": [
       "5"
      ]
     },
     "execution_count": 245,
     "metadata": {},
     "output_type": "execute_result"
    }
   ],
   "source": [
    "y"
   ]
  },
  {
   "cell_type": "code",
   "execution_count": 247,
   "id": "3f2248f5-02a5-44da-a60f-2d41a7408405",
   "metadata": {},
   "outputs": [
    {
     "data": {
      "text/plain": [
       "'ATIL SAMANCIOĞLU'"
      ]
     },
     "execution_count": 247,
     "metadata": {},
     "output_type": "execute_result"
    }
   ],
   "source": [
    "benimAdim = \"Atıl Samancıoğlu\"\n",
    "benimAdim.upper()"
   ]
  },
  {
   "cell_type": "code",
   "execution_count": 249,
   "id": "dacc66fa-3336-4f33-8f22-00e2831a13f5",
   "metadata": {},
   "outputs": [
    {
     "data": {
      "text/plain": [
       "'Atıl Samancıoğlu'"
      ]
     },
     "execution_count": 249,
     "metadata": {},
     "output_type": "execute_result"
    }
   ],
   "source": [
    "benimAdim"
   ]
  },
  {
   "cell_type": "code",
   "execution_count": 251,
   "id": "341961b8-a6a7-42f7-b099-1004615058ce",
   "metadata": {},
   "outputs": [],
   "source": [
    "benimAdimBuyukHarfli = benimAdim.upper()"
   ]
  },
  {
   "cell_type": "code",
   "execution_count": 253,
   "id": "66e86eab-8ddb-4ef6-97a1-5cae290df434",
   "metadata": {},
   "outputs": [
    {
     "data": {
      "text/plain": [
       "'ATIL SAMANCIOĞLU'"
      ]
     },
     "execution_count": 253,
     "metadata": {},
     "output_type": "execute_result"
    }
   ],
   "source": [
    "benimAdimBuyukHarfli"
   ]
  },
  {
   "cell_type": "code",
   "execution_count": 255,
   "id": "b3252190-79de-4acc-8e8f-1e527f6e5c41",
   "metadata": {},
   "outputs": [
    {
     "data": {
      "text/plain": [
       "'Atıl Samancıoğlu'"
      ]
     },
     "execution_count": 255,
     "metadata": {},
     "output_type": "execute_result"
    }
   ],
   "source": [
    "benimAdim"
   ]
  },
  {
   "cell_type": "code",
   "execution_count": 257,
   "id": "88abb114-ece2-4665-a7e0-bd8f63698667",
   "metadata": {},
   "outputs": [
    {
     "name": "stdout",
     "output_type": "stream",
     "text": [
      "Help on built-in function upper:\n",
      "\n",
      "upper() method of builtins.str instance\n",
      "    Return a copy of the string converted to uppercase.\n",
      "\n"
     ]
    }
   ],
   "source": [
    "help(benimAdim.upper)"
   ]
  },
  {
   "cell_type": "code",
   "execution_count": 259,
   "id": "3b62f99a-b690-4990-adfe-76a3ee464631",
   "metadata": {},
   "outputs": [
    {
     "name": "stdout",
     "output_type": "stream",
     "text": [
      "ilk fonksiyonum\n"
     ]
    }
   ],
   "source": [
    "def ilkFonksiyon():\n",
    "    print(\"ilk fonksiyonum\")\n",
    "ilkFonksiyon()"
   ]
  },
  {
   "cell_type": "code",
   "execution_count": 261,
   "id": "f6330d43-acb9-4e91-a86b-0c1237dee272",
   "metadata": {},
   "outputs": [
    {
     "name": "stdout",
     "output_type": "stream",
     "text": [
      "merhaba\n",
      "Atıl\n"
     ]
    }
   ],
   "source": [
    "def merhabaDunya(yazdirilacakIsim):\n",
    "    print(\"merhaba\")\n",
    "    print(yazdirilacakIsim)\n",
    "merhabaDunya(\"Atıl\")"
   ]
  },
  {
   "cell_type": "code",
   "execution_count": 263,
   "id": "525165b8-d5c9-491d-8169-9cfb625940ce",
   "metadata": {},
   "outputs": [
    {
     "name": "stdout",
     "output_type": "stream",
     "text": [
      "merhaba\n",
      "python\n"
     ]
    }
   ],
   "source": [
    "merhabaDunya(\"python\")"
   ]
  },
  {
   "cell_type": "code",
   "execution_count": 265,
   "id": "abe15a2e-2d1a-4a4f-bd58-872515be4d2d",
   "metadata": {},
   "outputs": [
    {
     "name": "stdout",
     "output_type": "stream",
     "text": [
      "merhaba\n",
      "atıl\n"
     ]
    }
   ],
   "source": [
    "def merhaba(isim = \"atıl\"):\n",
    "    print(\"merhaba\")\n",
    "    print(isim)\n",
    "merhaba()"
   ]
  },
  {
   "cell_type": "code",
   "execution_count": 267,
   "id": "f58d760e-e49a-40ad-b25c-e7ec97c1dcbe",
   "metadata": {},
   "outputs": [
    {
     "name": "stdout",
     "output_type": "stream",
     "text": [
      "merhaba\n",
      "python\n"
     ]
    }
   ],
   "source": [
    "merhaba(\"python\")"
   ]
  },
  {
   "cell_type": "code",
   "execution_count": 269,
   "id": "e4221736-69dd-4664-82e2-042a14151fdc",
   "metadata": {},
   "outputs": [
    {
     "name": "stdout",
     "output_type": "stream",
     "text": [
      "30\n"
     ]
    }
   ],
   "source": [
    "def toplama(numara1, numara2):\n",
    "    sonuc = numara1 + numara2\n",
    "    print(sonuc)\n",
    "toplama(10,20)"
   ]
  },
  {
   "cell_type": "code",
   "execution_count": 271,
   "id": "7b2364be-ae0e-46b0-bf4b-43b84387c374",
   "metadata": {},
   "outputs": [
    {
     "name": "stdout",
     "output_type": "stream",
     "text": [
      "150\n"
     ]
    }
   ],
   "source": [
    "toplama(-200,350)"
   ]
  },
  {
   "cell_type": "code",
   "execution_count": 273,
   "id": "8f12fb3e-bc14-4d15-87f3-3e028a620999",
   "metadata": {},
   "outputs": [],
   "source": [
    "def superToplama(num1, num2, num3):\n",
    "    print(num1+num2+num3)"
   ]
  },
  {
   "cell_type": "code",
   "execution_count": 275,
   "id": "991312f0-9b63-4748-a6a0-67d5ab59dc88",
   "metadata": {},
   "outputs": [
    {
     "name": "stdout",
     "output_type": "stream",
     "text": [
      "60\n"
     ]
    }
   ],
   "source": [
    "superToplama(10,20,30)"
   ]
  },
  {
   "cell_type": "code",
   "execution_count": 277,
   "id": "d07cc56d-ab2f-4593-a9f1-937cd07e6f4d",
   "metadata": {},
   "outputs": [
    {
     "name": "stdout",
     "output_type": "stream",
     "text": [
      "30\n"
     ]
    }
   ],
   "source": [
    "yeniDegisken = toplama(10,20)"
   ]
  },
  {
   "cell_type": "code",
   "execution_count": 279,
   "id": "ef3e5073-587e-46df-9415-6c2145dca54f",
   "metadata": {},
   "outputs": [
    {
     "data": {
      "text/plain": [
       "NoneType"
      ]
     },
     "execution_count": 279,
     "metadata": {},
     "output_type": "execute_result"
    }
   ],
   "source": [
    "type(yeniDegisken)"
   ]
  },
  {
   "cell_type": "code",
   "execution_count": 283,
   "id": "11ed7f31-bfa1-4194-ac52-f821b18e17a4",
   "metadata": {},
   "outputs": [
    {
     "data": {
      "text/plain": [
       "int"
      ]
     },
     "execution_count": 283,
     "metadata": {},
     "output_type": "execute_result"
    }
   ],
   "source": [
    "def dondurmeliToplama(num1, num2):\n",
    "    return num1+num2\n",
    "yeniSonuc = dondurmeliToplama(10,20)\n",
    "type(yeniSonuc)"
   ]
  },
  {
   "cell_type": "code",
   "execution_count": 285,
   "id": "07c128b3-0390-4712-971e-912445465177",
   "metadata": {},
   "outputs": [
    {
     "name": "stdout",
     "output_type": "stream",
     "text": [
      "verdiğiniz string atıl\n",
      "verdiğiniz string başka bir şey\n"
     ]
    }
   ],
   "source": [
    "def kontrolFonksiyon(s):\n",
    "    if s == \"atıl\":\n",
    "        print(\"verdiğiniz string atıl\")\n",
    "    else:\n",
    "        print(\"verdiğiniz string başka bir şey\")\n",
    "kontrolFonksiyon(\"atıl\")\n",
    "kontrolFonksiyon(\"python\")"
   ]
  },
  {
   "cell_type": "code",
   "execution_count": 287,
   "id": "82b099e0-8119-45b2-9852-ff359044b872",
   "metadata": {},
   "outputs": [
    {
     "data": {
      "text/plain": [
       "210"
      ]
     },
     "execution_count": 287,
     "metadata": {},
     "output_type": "execute_result"
    }
   ],
   "source": [
    "def yeniToplama(*args):\n",
    "    return sum(args)\n",
    "yeniToplama(10,20,30,40,50,60)"
   ]
  },
  {
   "cell_type": "code",
   "execution_count": 289,
   "id": "20590664-2ea1-44ab-8b41-5bea011ef12d",
   "metadata": {},
   "outputs": [
    {
     "data": {
      "text/plain": [
       "30"
      ]
     },
     "execution_count": 289,
     "metadata": {},
     "output_type": "execute_result"
    }
   ],
   "source": [
    "yeniToplama(10,20)"
   ]
  },
  {
   "cell_type": "code",
   "execution_count": 291,
   "id": "07b1efcc-9f40-4218-b641-5e1934b5a0a0",
   "metadata": {},
   "outputs": [],
   "source": [
    "def benimFonksiyonum(*args):\n",
    "    return args"
   ]
  },
  {
   "cell_type": "code",
   "execution_count": 293,
   "id": "b53fcb6c-0812-4edf-84be-978a9d0f743a",
   "metadata": {},
   "outputs": [
    {
     "data": {
      "text/plain": [
       "tuple"
      ]
     },
     "execution_count": 293,
     "metadata": {},
     "output_type": "execute_result"
    }
   ],
   "source": [
    "type(benimFonksiyonum(20,30,40))"
   ]
  },
  {
   "cell_type": "code",
   "execution_count": 295,
   "id": "b616202e-9b14-4cc9-98ec-5f3660102161",
   "metadata": {},
   "outputs": [
    {
     "data": {
      "text/plain": [
       "dict"
      ]
     },
     "execution_count": 295,
     "metadata": {},
     "output_type": "execute_result"
    }
   ],
   "source": [
    "def ornekFonksiyon(**kwargs):\n",
    "    return(kwargs)\n",
    "type(ornekFonksiyon(muz = 100, elma = 200, ananas = 300))"
   ]
  },
  {
   "cell_type": "code",
   "execution_count": 297,
   "id": "fcf35e5a-f2c9-492c-b878-ce6ff1e68e69",
   "metadata": {},
   "outputs": [
    {
     "name": "stdout",
     "output_type": "stream",
     "text": [
      "atıl yok\n"
     ]
    }
   ],
   "source": [
    "def keyWordKontrolu(**kwargs):\n",
    "    if \"atıl\" in kwargs:\n",
    "        print(\"atıl var\")\n",
    "    else:\n",
    "        print(\"atıl yok\")\n",
    "keyWordKontrolu(ahmet = 70, zeynep = 50, mehmet = 40)"
   ]
  },
  {
   "cell_type": "code",
   "execution_count": null,
   "id": "6a661997-b696-42df-a2c0-50b28d763177",
   "metadata": {},
   "outputs": [],
   "source": []
  }
 ],
 "metadata": {
  "kernelspec": {
   "display_name": "Python 3 (ipykernel)",
   "language": "python",
   "name": "python3"
  },
  "language_info": {
   "codemirror_mode": {
    "name": "ipython",
    "version": 3
   },
   "file_extension": ".py",
   "mimetype": "text/x-python",
   "name": "python",
   "nbconvert_exporter": "python",
   "pygments_lexer": "ipython3",
   "version": "3.12.7"
  }
 },
 "nbformat": 4,
 "nbformat_minor": 5
}
